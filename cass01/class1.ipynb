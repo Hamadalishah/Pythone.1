{
 "cells": [
  {
   "cell_type": "code",
   "execution_count": 2,
   "metadata": {},
   "outputs": [
    {
     "name": "stdout",
     "output_type": "stream",
     "text": [
      "2233\n"
     ]
    }
   ],
   "source": [
    "print(2233)"
   ]
  },
  {
   "cell_type": "code",
   "execution_count": 1,
   "metadata": {},
   "outputs": [
    {
     "name": "stdout",
     "output_type": "stream",
     "text": [
      "syed Muhammad Hamad ali\n"
     ]
    }
   ],
   "source": [
    "name = \"syed Muhammad Hamad ali\"\n",
    "print(name)"
   ]
  },
  {
   "cell_type": "code",
   "execution_count": 2,
   "metadata": {},
   "outputs": [
    {
     "name": "stdout",
     "output_type": "stream",
     "text": [
      "2\n",
      "4\n",
      "6\n",
      "8\n",
      "10\n",
      "12\n",
      "14\n",
      "16\n",
      "18\n",
      "20\n"
     ]
    }
   ],
   "source": [
    "for i in range (1,11):\n",
    "  print(i*2)"
   ]
  },
  {
   "cell_type": "code",
   "execution_count": null,
   "metadata": {},
   "outputs": [],
   "source": []
  },
  {
   "cell_type": "code",
   "execution_count": null,
   "metadata": {},
   "outputs": [],
   "source": []
  },
  {
   "cell_type": "code",
   "execution_count": 3,
   "metadata": {},
   "outputs": [
    {
     "name": "stdout",
     "output_type": "stream",
     "text": [
      "12344\n"
     ]
    }
   ],
   "source": [
    "print(12344)"
   ]
  },
  {
   "cell_type": "code",
   "execution_count": 4,
   "metadata": {},
   "outputs": [
    {
     "name": "stdout",
     "output_type": "stream",
     "text": [
      "syed hammad shah bukhari\n",
      "hellow world\n",
      "['__add__', '__class__', '__contains__', '__delattr__', '__dir__', '__doc__', '__eq__', '__format__', '__ge__', '__getattribute__', '__getitem__', '__getnewargs__', '__getstate__', '__gt__', '__hash__', '__init__', '__init_subclass__', '__iter__', '__le__', '__len__', '__lt__', '__mod__', '__mul__', '__ne__', '__new__', '__reduce__', '__reduce_ex__', '__repr__', '__rmod__', '__rmul__', '__setattr__', '__sizeof__', '__str__', '__subclasshook__', 'capitalize', 'casefold', 'center', 'count', 'encode', 'endswith', 'expandtabs', 'find', 'format', 'format_map', 'index', 'isalnum', 'isalpha', 'isascii', 'isdecimal', 'isdigit', 'isidentifier', 'islower', 'isnumeric', 'isprintable', 'isspace', 'istitle', 'isupper', 'join', 'ljust', 'lower', 'lstrip', 'maketrans', 'partition', 'removeprefix', 'removesuffix', 'replace', 'rfind', 'rindex', 'rjust', 'rpartition', 'rsplit', 'rstrip', 'split', 'splitlines', 'startswith', 'strip', 'swapcase', 'title', 'translate', 'upper', 'zfill']\n"
     ]
    }
   ],
   "source": [
    "name = \"syed hammad shah bukhari\"\n",
    "print(name)\n",
    "print(\"hellow world\")\n",
    "print(dir(name))"
   ]
  },
  {
   "cell_type": "code",
   "execution_count": 5,
   "metadata": {},
   "outputs": [
    {
     "name": "stdout",
     "output_type": "stream",
     "text": [
      "2233\n"
     ]
    }
   ],
   "source": [
    "print(2233)"
   ]
  },
  {
   "cell_type": "code",
   "execution_count": 6,
   "metadata": {},
   "outputs": [
    {
     "name": "stdout",
     "output_type": "stream",
     "text": [
      "Ali hassan\n",
      "ALI HASSAN\n",
      "ali hassan\n"
     ]
    }
   ],
   "source": [
    "name1:str = \"ALi HaSSan\"\n",
    "print(name1.capitalize())\n",
    "print(name1.upper())\n",
    "print(name1.lower())"
   ]
  },
  {
   "cell_type": "code",
   "execution_count": 9,
   "metadata": {},
   "outputs": [
    {
     "name": "stdout",
     "output_type": "stream",
     "text": [
      "45\n"
     ]
    }
   ],
   "source": [
    "digits:list[int] = [0,1,2,3,4,5,6,7,8,9]\n",
    "print(sum(digits))\n"
   ]
  },
  {
   "cell_type": "code",
   "execution_count": 7,
   "metadata": {},
   "outputs": [
    {
     "name": "stdout",
     "output_type": "stream",
     "text": [
      "ali hassan\n"
     ]
    }
   ],
   "source": [
    "name1:str=\"ali hassan\"\n",
    "print(name1)"
   ]
  },
  {
   "cell_type": "code",
   "execution_count": 8,
   "metadata": {},
   "outputs": [
    {
     "name": "stdout",
     "output_type": "stream",
     "text": [
      "False\n"
     ]
    }
   ],
   "source": [
    "num1:int = 56\n",
    "num2:int = 67\n",
    "if num1>num2:\n",
    "   print(\"true\")\n",
    "else:\n",
    "    print(\"False\")"
   ]
  },
  {
   "cell_type": "code",
   "execution_count": 9,
   "metadata": {},
   "outputs": [
    {
     "name": "stdout",
     "output_type": "stream",
     "text": [
      "its not prfect\n"
     ]
    }
   ],
   "source": [
    "\n",
    "num3=int(input (\"please enter the number\"))\n",
    "num4=int(input (\"please enter the number\"))\n",
    "if num3*num4==num3+num4:\n",
    "    print(\"its best and adversely operatot\")\n",
    "else:\n",
    "    print(\"its not prfect\")"
   ]
  },
  {
   "cell_type": "code",
   "execution_count": 10,
   "metadata": {},
   "outputs": [
    {
     "name": "stdout",
     "output_type": "stream",
     "text": [
      "['SuZuki', 'Atlas', 'Toyota', 'Kia', 'Mehran']\n",
      "['SuZuki', 'Atlas', 'Toyota', 'Kia', 'Mehran', 'Boloan']\n",
      "['Honda', 'SuZuki', 'Atlas', 'Toyota', 'Kia', 'Mehran', 'Boloan']\n",
      "['Boloan', 'Mehran', 'Kia', 'Toyota', 'Atlas', 'SuZuki', 'Honda']\n",
      "['Atlas', 'Boloan', 'Honda', 'Kia', 'Mehran', 'SuZuki', 'Toyota']\n",
      "['Atlas', 'Boloan', 'Honda', 'Mehran', 'SuZuki', 'Toyota']\n",
      "['Atlas', 'Boloan', 'Honda', 'Kia', 'Mehran', 'SuZuki', 'Toyota']\n",
      "['Atlas', 'Boloan', 'Honda', 'Kia', 'Mehran', 'SuZuki', 'Toyota']\n",
      "['Atlas', 'Boloan', 'Honda', 'Kia', 'kia stonic', 'SuZuki', 'Toyota']\n",
      "['Atlas', 'Boloan', 'Honda', 'Mehran', 'SuZuki', 'Toyota']\n"
     ]
    }
   ],
   "source": [
    "from typing import Any\n",
    "car_Lists:list[Any] = [\"HoNda\",\"SuZuki\",\"Atlas\",\"Toyota\",\"Kia\",\"Mehran\"]\n",
    "del car_Lists[0]\n",
    "print(car_Lists)\n",
    "car_Lists.append(\"Boloan\")\n",
    "print(car_Lists)\n",
    "car_Lists.insert(0,\"Honda\")\n",
    "print(car_Lists)\n",
    "car_Lists.reverse()\n",
    "print(car_Lists)\n",
    "car_Lists.sort()\n",
    "print(car_Lists)\n",
    "a:str = car_Lists.pop(3)\n",
    "print(car_Lists)\n",
    "car_Lists.insert(3,a)\n",
    "print(car_Lists)\n",
    "b=car_Lists.copy()\n",
    "b[4]=\"kia stonic\"\n",
    "print(car_Lists)\n",
    "print(b)\n",
    "car_Lists.remove(\"Kia\")\n",
    "print(car_Lists)"
   ]
  },
  {
   "cell_type": "code",
   "execution_count": 11,
   "metadata": {},
   "outputs": [
    {
     "name": "stdout",
     "output_type": "stream",
     "text": [
      "Thats my best teachers  syed\n",
      "Thats my best teachers  Muhammad\n"
     ]
    }
   ],
   "source": [
    "from typing import AnyStr\n",
    "names : list[str] = [\"syed\",\"Muhammad\",\"Hamad\",\"Ali\",\"Shah\"]\n",
    "for name in names[:2] :\n",
    "    print(f\"Thats my best teachers  {name}\")"
   ]
  },
  {
   "cell_type": "code",
   "execution_count": 7,
   "metadata": {},
   "outputs": [
    {
     "name": "stdout",
     "output_type": "stream",
     "text": [
      " 1200 X 1 = 1200 \n",
      " 1200 X 2 = 2400 \n",
      " 1200 X 3 = 3600 \n",
      " 1200 X 4 = 4800 \n",
      " 1200 X 5 = 6000 \n",
      " 1200 X 6 = 7200 \n",
      " 1200 X 7 = 8400 \n",
      " 1200 X 8 = 9600 \n",
      " 1200 X 9 = 10800 \n",
      " 1200 X 10 = 12000 \n"
     ]
    }
   ],
   "source": [
    "Table=int(input(\"Please Enter Number Which Table You Generat\"))\n",
    "for n in range(1, 11):\n",
    "    multiply = n * Table\n",
    "    print(f\" {Table} X {n} = {multiply} \")"
   ]
  },
  {
   "cell_type": "code",
   "execution_count": 13,
   "metadata": {},
   "outputs": [
    {
     "name": "stdout",
     "output_type": "stream",
     "text": [
      "4 X 1 = 4\n",
      "4 X 2 = 8\n",
      "4 X 3 = 12\n",
      "4 X 4 = 16\n",
      "4 X 5 = 20\n",
      "4 X 6 = 24\n",
      "4 X 7 = 28\n",
      "4 X 8 = 32\n",
      "4 X 9 = 36\n",
      "4 X 10 = 40\n"
     ]
    }
   ],
   "source": [
    "# Ask the user to enter a number for which the multiplication table will be generated\n",
    "table = int(input(\"Please Enter Number Which Table You Generate: \"))\n",
    "\n",
    "# Loop from 1 to 10\n",
    "for n in range(1, 11):\n",
    "    # Calculate the product\n",
    "    multiply = n * table\n",
    "    # Print the multiplication statement\n",
    "    print(f\"{table} X {n} = {multiply}\")\n"
   ]
  },
  {
   "cell_type": "code",
   "execution_count": 14,
   "metadata": {},
   "outputs": [
    {
     "name": "stdout",
     "output_type": "stream",
     "text": [
      "sorrry You Are not Valid\n"
     ]
    }
   ],
   "source": [
    "data_sc = [(\"Hnia\",\"221\"),(\"AwaiseQaiser\",\"344\"),(\"HuzaifaSaeed\",\"455\")]\n",
    "data_Tuple = tuple(data_sc)\n",
    "Datauser=input(\"Enter Your User Name\")\n",
    "data_Password=input(\"Enter Your Password\")\n",
    "for row in data_Tuple:\n",
    "    user,password = row\n",
    "    if Datauser==user and data_Password==password:\n",
    "        print(\"You Are Valid\",user,password)\n",
    "        break\n",
    "else:\n",
    "    print(\"sorrry You Are not Valid\") "
   ]
  },
  {
   "cell_type": "code",
   "execution_count": 25,
   "metadata": {},
   "outputs": [
    {
     "name": "stdout",
     "output_type": "stream",
     "text": [
      "[1, 4, 9, 16, 25, 36, 49, 64, 81, 100]\n"
     ]
    }
   ],
   "source": [
    "squares : list[int] = []\n",
    "for i in range (1,11):\n",
    "    square= i**2\n",
    "    squares.append(square)\n",
    "print(squares)"
   ]
  },
  {
   "cell_type": "markdown",
   "metadata": {},
   "source": [
    "#list comprehensive"
   ]
  },
  {
   "cell_type": "code",
   "execution_count": 26,
   "metadata": {},
   "outputs": [
    {
     "data": {
      "text/plain": [
       "[1, 4, 9, 16, 25, 36, 49, 64, 81, 100]"
      ]
     },
     "execution_count": 26,
     "metadata": {},
     "output_type": "execute_result"
    }
   ],
   "source": [
    "[i**2 for i in range(1,11)]"
   ]
  },
  {
   "cell_type": "markdown",
   "metadata": {},
   "source": [
    "#how are you"
   ]
  },
  {
   "cell_type": "code",
   "execution_count": 28,
   "metadata": {},
   "outputs": [
    {
     "name": "stdout",
     "output_type": "stream",
     "text": [
      "[1, 4, 9, 16, 25, 36, 49, 64, 81, 100]\n"
     ]
    }
   ],
   "source": [
    "squares = [i**2 for i in range(1, 11)]\n",
    "print(squares)\n"
   ]
  },
  {
   "cell_type": "code",
   "execution_count": 34,
   "metadata": {},
   "outputs": [
    {
     "name": "stdout",
     "output_type": "stream",
     "text": [
      "3 X 1 = 3\n",
      "3 X 2 = 6\n",
      "3 X 3 = 9\n",
      "3 X 4 = 12\n",
      "3 X 5 = 15\n",
      "3 X 6 = 18\n",
      "3 X 7 = 21\n",
      "3 X 8 = 24\n",
      "3 X 9 = 27\n",
      "3 X 10 = 30\n"
     ]
    }
   ],
   "source": [
    "Table=int(input(\"Please enter Table number you cane generate  Note! only eneter the number\"))\n",
    "for i in range(1,11):\n",
    "    product = i * Table\n",
    "    print(f\"{Table} X {i} = {product}\")\n",
    "    "
   ]
  },
  {
   "cell_type": "code",
   "execution_count": 42,
   "metadata": {},
   "outputs": [
    {
     "name": "stdout",
     "output_type": "stream",
     "text": [
      "776 X 1 = 776\n",
      "776 X 2 = 1552\n",
      "776 X 3 = 2328\n",
      "776 X 4 = 3104\n",
      "776 X 5 = 3880\n",
      "776 X 6 = 4656\n",
      "776 X 7 = 5432\n",
      "776 X 8 = 6208\n",
      "776 X 9 = 6984\n",
      "776 X 10 = 7760\n"
     ]
    }
   ],
   "source": [
    "tables=int(input(\"please enter number\"))\n",
    "for i in range(1,11):\n",
    "    product = i * tables\n",
    "    print(f\"{tables} X {i} = {product}\")"
   ]
  },
  {
   "cell_type": "code",
   "execution_count": 46,
   "metadata": {},
   "outputs": [
    {
     "name": "stdout",
     "output_type": "stream",
     "text": [
      "[1, 64, 729, 4096, 15625, 46656, 117649, 262144, 531441, 1000000, 1771561, 2985984, 4826809, 7529536, 11390625, 16777216, 24137569, 34012224, 47045881, 64000000]\n"
     ]
    }
   ],
   "source": [
    "value  = [i **6 for i in range(1,21)]\n",
    "print(value)"
   ]
  },
  {
   "cell_type": "code",
   "execution_count": 49,
   "metadata": {},
   "outputs": [
    {
     "name": "stdout",
     "output_type": "stream",
     "text": [
      "[True, False, True, False, True, False, True, False, True, False, True, False, True, False, True, False, True, False, True, False, True, False, True, False, True, False, True, False, True, False, True, False, True, False, True, False, True, False, True, False, True, False, True, False, True, False, True, False, True, False, True, False, True, False, True, False, True, False, True, False, True, False, True, False, True, False, True, False, True, False, True, False, True, False]\n"
     ]
    }
   ],
   "source": [
    "value =[odd%2==0 for odd in range (2,76)]\n",
    "print(value)"
   ]
  },
  {
   "cell_type": "code",
   "execution_count": 11,
   "metadata": {},
   "outputs": [
    {
     "name": "stdout",
     "output_type": "stream",
     "text": [
      "['a', 1, [1, 2, 3, 4, 5, 6, 7, 8, 12], True, False]\n"
     ]
    }
   ],
   "source": [
    "from typing import Tuple\n",
    "list = [\"a\",1,[1,2,3,4,5,6,7,8],True,False]\n",
    "tuple_list = tuple(list)\n",
    "list[2].append(12)\n",
    "print(list)"
   ]
  },
  {
   "cell_type": "code",
   "execution_count": 18,
   "metadata": {},
   "outputs": [
    {
     "name": "stdout",
     "output_type": "stream",
     "text": [
      "Pleae enter correct Email And Password\n"
     ]
    }
   ],
   "source": [
    "email = input(\"Please Enter you Email\")\n",
    "PassWord =input(\"Please Enter your Password\")\n",
    "\n",
    "user_Email = \"hammadalis459@gmail.com\"\n",
    "User_Password =\"21875835\" \n",
    "\n",
    "if email == user_Email and password == User_Password:\n",
    "    print(\"Welcome to the ATM\")\n",
    "else:\n",
    "    print(\"Pleae enter correct Email And Password\")"
   ]
  },
  {
   "cell_type": "code",
   "execution_count": null,
   "metadata": {},
   "outputs": [
    {
     "name": "stdout",
     "output_type": "stream",
     "text": [
      "grade = C\n"
     ]
    }
   ],
   "source": [
    "from typing import Union\n",
    "student_Number = int(input(\"Please Enter Your Marks\"))\n",
    "Student_Percentage = (student_Number/1100)*100\n",
    "if 90 <= Student_Percentage<= 100:\n",
    "        print(\"grade = A+\")\n",
    "elif 80 <= Student_Percentage< 90:\n",
    "        print(\"grade = A\")\n",
    "elif 70 <= Student_Percentage< 80:\n",
    "        print(\"grade = B+\") \n",
    "elif 60 <= Student_Percentage< 70:\n",
    "        print(\"grade = B\")\n",
    "elif 50 <= Student_Percentage< 60:\n",
    "        print(\"grade = C\")\n",
    "elif 40 <= Student_Percentage< 50:\n",
    "        print(\"grade = D\") \n",
    "elif 33 <= Student_Percentage< 40:\n",
    "        print(\"grade = e\")\n",
    "        \n",
    "else:\n",
    "    print(\"grade = F\")                                       "
   ]
  },
  {
   "cell_type": "code",
   "execution_count": 16,
   "metadata": {},
   "outputs": [
    {
     "name": "stdout",
     "output_type": "stream",
     "text": [
      "Welcome to the ATM\n"
     ]
    }
   ],
   "source": [
    "email = input(\"Please enter your email: \")\n",
    "password = input(\"Please enter your password: \")\n",
    "\n",
    "user_email = \"hammadalis459@gmail.com\"\n",
    "user_password = \"21875835\"  # Keep the password as a string\n",
    "\n",
    "if email == user_email and password == user_password:\n",
    "    print(\"Welcome to the ATM\")\n",
    "else:\n",
    "    print(\"Please enter the correct email and password\")\n"
   ]
  },
  {
   "cell_type": "code",
   "execution_count": null,
   "metadata": {},
   "outputs": [],
   "source": [
    "from typing import Union\n",
    "\n",
    "student_number = int(input(\"Please Enter Your Marks: \"))\n",
    "student_percentage = (student_number / 1100) * 100\n",
    "\n",
    "if student_percentage <= 100 and student_percentage >= 90:\n",
    "    print(\"grade = A+\")\n",
    "elif student_percentage < 90 and student_percentage >= 80:\n",
    "    print(\"grade = A\")\n",
    "elif student_percentage < 80 and student_percentage >= 70:\n",
    "    print(\"grade = B+\")\n",
    "elif student_percentage < 70 and student_percentage >= 60:\n",
    "    print(\"grade = B\")\n",
    "elif student_percentage < 60 and student_percentage >= 50:\n",
    "    print(\"grade = C\")\n",
    "elif student_percentage < 50 and student_percentage >= 40:\n",
    "    print(\"grade = D\")\n",
    "elif student_percentage < 40 and student_percentage >= 33:\n",
    "    print(\"grade = E\")\n",
    "else:\n",
    "    print(\"grade = F\")\n"
   ]
  },
  {
   "cell_type": "code",
   "execution_count": 12,
   "metadata": {},
   "outputs": [
    {
     "name": "stdout",
     "output_type": "stream",
     "text": [
      "grade = B+\n"
     ]
    }
   ],
   "source": [
    "student_Number = int(input(\"Please Enter Your Marks\"))\n",
    "Student_Percentage = (student_Number/85)*100\n",
    "if Student_Percentage <= 100 and Student_Percentage >= 90:\n",
    "        print(\"grade = A+\")\n",
    "elif Student_Percentage < 90 and Student_Percentage >= 80:\n",
    "        print(\"grade = A\")\n",
    "elif Student_Percentage <80 and Student_Percentage >= 70:\n",
    "        print(\"grade = B+\") \n",
    "elif Student_Percentage <70 and Student_Percentage >= 60:\n",
    "        print(f\"grade = B {Student_Percentage}\")\n",
    "elif Student_Percentage <60 and Student_Percentage >= 50:\n",
    "        print(\"grade = C\")\n",
    "elif Student_Percentage <50 and Student_Percentage >= 40:\n",
    "        print(\"grade = D\") \n",
    "elif Student_Percentage <40 and Student_Percentage >= 33:\n",
    "        print(\"grade = e\")\n",
    "elif Student_Percentage > 100:\n",
    "        print(\"please enter your marks less then or equal to  85 \")\n",
    "else:\n",
    "    print(\"grade = F\")"
   ]
  },
  {
   "cell_type": "code",
   "execution_count": null,
   "metadata": {},
   "outputs": [
    {
     "name": "stdout",
     "output_type": "stream",
     "text": [
      "grade = A\n"
     ]
    }
   ],
   "source": [
    "student_number = int(input(\"Please Enter Your Marks: \"))\n",
    "student_percentage = (student_number / 3550) * 100\n",
    "grades = [\n",
    "    (90, \"A+\"),\n",
    "    (80, \"A\"),\n",
    "    (70, \"B+\"),\n",
    "    (60, \"B\"),\n",
    "    (50, \"C\"),\n",
    "    (40, \"D\"),\n",
    "    (33, \"E\")\n",
    "]\n",
    "for threshold,grade in grades:\n",
    "    if student_percentage >= threshold:\n",
    "        print(f\"grade = {grade}\")\n",
    "        break\n",
    "else:\n",
    "    print(\"grade = F\")\n"
   ]
  },
  {
   "cell_type": "code",
   "execution_count": 1,
   "metadata": {},
   "outputs": [
    {
     "name": "stdout",
     "output_type": "stream",
     "text": [
      "Grade = A your percentage is = 85.61904761904762\n"
     ]
    }
   ],
   "source": [
    "student_number = int(input(\"Please Enter Your Number\"))\n",
    "student_percentage = (student_number / 1050) * 100\n",
    "grades = [\n",
    "    (90, \"A+\"),\n",
    "    (80, \"A\"),\n",
    "    (70, \"B+\"),\n",
    "    (60, \"B\"),\n",
    "    (50, \"C\"),\n",
    "    (40, \"D\"),\n",
    "    (33, \"E\")\n",
    "]\n",
    "for threshold,grade in grades:\n",
    "    if student_percentage >= threshold:\n",
    "        print(f\"Grade = {grade} your percentage is = {student_percentage}\")\n",
    "        break\n",
    "else:\n",
    "        print(f\"Grade = F your percentage {student_percentage}\")"
   ]
  },
  {
   "cell_type": "code",
   "execution_count": 5,
   "metadata": {},
   "outputs": [
    {
     "name": "stdout",
     "output_type": "stream",
     "text": [
      "BMW\n"
     ]
    }
   ],
   "source": [
    "from typing import List\n",
    "cars: List[str] = [\"bmw\",\"toyota\",\"hondai\",\"sUzuki\"]\n",
    "for car in cars:\n",
    "    if car == 'bmw' :\n",
    "     print(car.upper())\n",
    "     break\n",
    "    else:\n",
    "     print(car.title())\n",
    "    "
   ]
  },
  {
   "cell_type": "code",
   "execution_count": 8,
   "metadata": {},
   "outputs": [
    {
     "data": {
      "text/plain": [
       "['BMW', 'Toyota', 'Hondai', 'Suzuki']"
      ]
     },
     "execution_count": 8,
     "metadata": {},
     "output_type": "execute_result"
    }
   ],
   "source": [
    "from typing import List\n",
    "cars: List[str] = [\"bmw\",\"toyota\",\"hondai\",\"sUzuki\"]\n",
    "[car.upper() if car == \"bmw\" else car.title() for car in cars]"
   ]
  },
  {
   "cell_type": "code",
   "execution_count": 11,
   "metadata": {},
   "outputs": [
    {
     "data": {
      "text/plain": [
       "\"your password is '218768789'\""
      ]
     },
     "metadata": {},
     "output_type": "display_data"
    }
   ],
   "source": [
    "nume : int = 5\n",
    "user_Input = int(input(\"Please enter your specific number\"))\n",
    "if user_Input == nume:\n",
    "    display(\"your password is '218768789'\")\n",
    "else:\n",
    "    print(\"chaal nikal ider sai boosri k\")"
   ]
  },
  {
   "cell_type": "code",
   "execution_count": 30,
   "metadata": {},
   "outputs": [
    {
     "data": {
      "text/plain": [
       "'Hello hlk Thank you logging for again'"
      ]
     },
     "metadata": {},
     "output_type": "display_data"
    }
   ],
   "source": [
    "list_User = [\"Admin Hamad\",\"Ali\",\"Hassan\",\"Kamin\",\"Shah\"]\n",
    "list_Input = input(\"Please enter login Password\")\n",
    "\n",
    "for i in list_User:\n",
    "    if i == \"Admin Hamad\" and i == list_Input:\n",
    "        display(\"Hello Admin Would You Like to See a Status Report\")\n",
    "    else:\n",
    "        display(f\"Hello {list_Input} Thank you logging for again\")\n",
    "        break\n",
    "else:\n",
    "    print(\"Sorry you are Input is incoreect\")\n",
    "    \n",
    "            \n",
    "\n",
    "    "
   ]
  },
  {
   "cell_type": "code",
   "execution_count": 17,
   "metadata": {},
   "outputs": [
    {
     "name": "stdout",
     "output_type": "stream",
     "text": [
      "You are not a recognized user.\n"
     ]
    }
   ],
   "source": [
    "list_User = [\"Admin Hamad\",\"Ali\",\"Hassan\",\"Kamin\",\"Shah\"]\n",
    "list_Input = input(\"Please enter login Password\")\n",
    "#if list_User\n",
    "if list_Input in list_User:\n",
    "    if list_Input == \"Admin Hamad\":\n",
    "         display(\"Hello Admin Would You Like to See a Status Report\")\n",
    "    else:\n",
    "        display(f\"Hello {list_Input} Thank you logging for again\")\n",
    "else:\n",
    "    print(\"You are not a recognized user.\")\n"
   ]
  },
  {
   "cell_type": "code",
   "execution_count": 13,
   "metadata": {},
   "outputs": [
    {
     "name": "stdout",
     "output_type": "stream",
     "text": [
      "You are not a recognized user.\n",
      "We need to find some users!\n"
     ]
    }
   ],
   "source": [
    "# List of usernames\n",
    "usernames = [\"admin\", \"Alice\", \"Bob\", \"Charlie\", \"Dave\"]\n",
    "\n",
    "# Prompt user to enter their username\n",
    "user_input = input(\"Please enter your username: \")\n",
    "\n",
    "# Check if the list is empty\n",
    "if usernames:\n",
    "    # Check if the entered username is in the list\n",
    "    if user_input in usernames:\n",
    "        if user_input == \"admin\":\n",
    "            print(f\"Hello {user_input}! Would you like to see a status report?\")\n",
    "        else:\n",
    "            print(f\"Hello {user_input}, thank you for logging in again.\")\n",
    "    else:\n",
    "        print(\"You are not a recognized user.\")\n",
    "else:\n",
    "    print(\"We need to find some users!\")\n",
    "\n",
    "# Clear the list of users to demonstrate the empty list behavior\n",
    "usernames.clear()\n",
    "\n",
    "# Prompt the user to enter their username again\n",
    "user_input = input(\"Please enter your username: \")\n",
    "\n",
    "# Check the list again after removing all users\n",
    "if usernames:\n",
    "    if user_input in usernames:\n",
    "        if user_input == \"admin\":\n",
    "            print(f\"Hello {user_input}! Would you like to see a status report?\")\n",
    "        else:\n",
    "            print(f\"Hello {user_input}, thank you for logging in again.\")\n",
    "    else:\n",
    "        print(\"You are not a recognized user.\")\n",
    "else:\n",
    "    print(\"We need to find some users!\")\n"
   ]
  },
  {
   "cell_type": "code",
   "execution_count": 20,
   "metadata": {},
   "outputs": [
    {
     "name": "stdout",
     "output_type": "stream",
     "text": [
      "Hello admin! Would you like to see a status report?\n",
      "Hello Alice, thank you for logging in again.\n",
      "Hello Bob, thank you for logging in again.\n",
      "Hello Charlie, thank you for logging in again.\n",
      "Hello Dave, thank you for logging in again.\n",
      "We need to find some users!\n"
     ]
    }
   ],
   "source": [
    "# List of usernames\n",
    "usernames = [\"admin\", \"Alice\", \"Bob\", \"Charlie\", \"Dave\"]\n",
    "\n",
    "# Check if the list is empty\n",
    "if usernames:\n",
    "    # Loop through the list of usernames\n",
    "    for username in usernames:\n",
    "        if username == \"admin\":\n",
    "            print(f\"Hello {username}! Would you like to see a status report?\")\n",
    "            \n",
    "        else:\n",
    "            print(f\"Hello {username}, thank you for logging in again.\")\n",
    "else:\n",
    "    print(\"We need to find some users!\")\n",
    "\n",
    "# Remove all users from the list\n",
    "usernames.clear()\n",
    "\n",
    "# Check the list again after removing all users\n",
    "if usernames:\n",
    "    for username in usernames:\n",
    "        if username == \"admin\":\n",
    "            print(f\"Hello {username}! Would you like to see a status report?\")\n",
    "        else:\n",
    "            print(f\"Hello {username}, thank you for logging in again.\")\n",
    "else:\n",
    "    print(\"We need to find some users!\")\n"
   ]
  },
  {
   "cell_type": "code",
   "execution_count": 33,
   "metadata": {},
   "outputs": [
    {
     "data": {
      "text/plain": [
       "'1st'"
      ]
     },
     "metadata": {},
     "output_type": "display_data"
    },
    {
     "data": {
      "text/plain": [
       "'2nd'"
      ]
     },
     "metadata": {},
     "output_type": "display_data"
    },
    {
     "data": {
      "text/plain": [
       "'3rd'"
      ]
     },
     "metadata": {},
     "output_type": "display_data"
    },
    {
     "data": {
      "text/plain": [
       "'4th'"
      ]
     },
     "metadata": {},
     "output_type": "display_data"
    },
    {
     "data": {
      "text/plain": [
       "'5th'"
      ]
     },
     "metadata": {},
     "output_type": "display_data"
    },
    {
     "data": {
      "text/plain": [
       "'6th'"
      ]
     },
     "metadata": {},
     "output_type": "display_data"
    },
    {
     "data": {
      "text/plain": [
       "'7th'"
      ]
     },
     "metadata": {},
     "output_type": "display_data"
    },
    {
     "data": {
      "text/plain": [
       "'8th'"
      ]
     },
     "metadata": {},
     "output_type": "display_data"
    },
    {
     "data": {
      "text/plain": [
       "'9th'"
      ]
     },
     "metadata": {},
     "output_type": "display_data"
    },
    {
     "data": {
      "text/plain": [
       "'10th'"
      ]
     },
     "metadata": {},
     "output_type": "display_data"
    }
   ],
   "source": [
    "num_List = [1,2,3,4,5,6,7,8,9,10]\n",
    "for num in num_List:\n",
    "    if num == 1:\n",
    "        display(f\"{num}st\")\n",
    "    elif num == 2:\n",
    "        display(f\"{num}nd\")\n",
    "    elif num == 3:\n",
    "         display(f\"{num}rd\")\n",
    "    else:\n",
    "        display(f\"{num}th\")"
   ]
  },
  {
   "cell_type": "code",
   "execution_count": 35,
   "metadata": {},
   "outputs": [
    {
     "name": "stdout",
     "output_type": "stream",
     "text": [
      "{1, 2, 3, 4}\n"
     ]
    }
   ],
   "source": [
    "nom:set = {3,4,3,4,1,1,1,2,2}\n",
    "print(nom)"
   ]
  }
 ],
 "metadata": {
  "kernelspec": {
   "display_name": "python12",
   "language": "python",
   "name": "python3"
  },
  "language_info": {
   "codemirror_mode": {
    "name": "ipython",
    "version": 3
   },
   "file_extension": ".py",
   "mimetype": "text/x-python",
   "name": "python",
   "nbconvert_exporter": "python",
   "pygments_lexer": "ipython3",
   "version": "3.12.0"
  }
 },
 "nbformat": 4,
 "nbformat_minor": 2
}
