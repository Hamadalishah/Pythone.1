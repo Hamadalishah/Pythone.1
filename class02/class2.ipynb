{
 "cells": [
  {
   "cell_type": "code",
   "execution_count": 1,
   "metadata": {},
   "outputs": [
    {
     "name": "stdout",
     "output_type": "stream",
     "text": [
      "{'Name': 'Syed Muhammad Hamad', 'FatherName': 'Ali Asghar Shah', 'Education': 'MSDC'}\n"
     ]
    }
   ],
   "source": [
    "import pprint\n",
    "data: dict[str,str] = {\n",
    "                        \"Name\":\"Syed Muhammad Hamad\",\n",
    "                        \"FatherName\":\"Ali Asghar Shah\",\n",
    "                        \"Education\":\"MSDC\"\n",
    "                                                }\n",
    "pprint.pprint(data)"
   ]
  }
 ],
 "metadata": {
  "kernelspec": {
   "display_name": "python12",
   "language": "python",
   "name": "python3"
  },
  "language_info": {
   "codemirror_mode": {
    "name": "ipython",
    "version": 3
   },
   "file_extension": ".py",
   "mimetype": "text/x-python",
   "name": "python",
   "nbconvert_exporter": "python",
   "pygments_lexer": "ipython3",
   "version": "3.12.0"
  }
 },
 "nbformat": 4,
 "nbformat_minor": 2
}
