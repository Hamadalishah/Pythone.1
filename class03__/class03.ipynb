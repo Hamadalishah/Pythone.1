{
 "cells": [
  {
   "cell_type": "code",
   "execution_count": 2,
   "metadata": {},
   "outputs": [
    {
     "name": "stdout",
     "output_type": "stream",
     "text": [
      "Orange\n",
      "Bnana\n",
      "Apple\n",
      "Grapes\n"
     ]
    }
   ],
   "source": [
    "fruit: set = {\"Apple\",\"Bnana\",\"Grapes\",\"Orange\"}\n",
    "for i in fruit:\n",
    "    print(i)"
   ]
  },
  {
   "cell_type": "code",
   "execution_count": 3,
   "metadata": {},
   "outputs": [
    {
     "name": "stdout",
     "output_type": "stream",
     "text": [
      "This is the name of the program: C:\\Users\\Ayaan Trader\\AppData\\Roaming\\Python\\Python312\\site-packages\\ipykernel_launcher.py\n",
      "Argument List: ['C:\\\\Users\\\\Ayaan Trader\\\\AppData\\\\Roaming\\\\Python\\\\Python312\\\\site-packages\\\\ipykernel_launcher.py', '--f=\"c:\\\\Users\\\\Ayaan Trader\\\\AppData\\\\Roaming\\\\jupyter\\\\runtime\\\\kernel-v2-10620U0kPxMMwptL1.json\"']\n"
     ]
    }
   ],
   "source": [
    "# Python program to demonstrate\n",
    "# sys.argv\n",
    "\n",
    "\n",
    "import sys\n",
    "\n",
    "print(\"This is the name of the program:\", sys.argv[0])\n",
    "\n",
    "print(\"Argument List:\", str(sys.argv))\n",
    "\n"
   ]
  },
  {
   "cell_type": "code",
   "execution_count": 2,
   "metadata": {},
   "outputs": [
    {
     "name": "stdout",
     "output_type": "stream",
     "text": [
      "your NUMBER IS 1\n",
      "your NUMBER IS 2\n",
      "your NUMBER IS 3\n",
      "your NUMBER IS 4\n",
      "your NUMBER IS 5\n",
      "your NUMBER IS 6\n",
      "your NUMBER IS 7\n",
      "your NUMBER IS 8\n",
      "your NUMBER IS 9\n",
      "your NUMBER IS 10\n",
      "your NUMBER IS 11\n",
      "your NUMBER IS 12\n",
      "your NUMBER IS 13\n",
      "your NUMBER IS 14\n",
      "your NUMBER IS 15\n",
      "your NUMBER IS 16\n",
      "your NUMBER IS 17\n",
      "your NUMBER IS 18\n",
      "your NUMBER IS 19\n",
      "your NUMBER IS 20\n",
      "your NUMBER IS 21\n",
      "your NUMBER IS 22\n",
      "your NUMBER IS 23\n",
      "your NUMBER IS 24\n",
      "your NUMBER IS 25\n",
      "your NUMBER IS 26\n",
      "your NUMBER IS 27\n",
      "your NUMBER IS 28\n",
      "your NUMBER IS 29\n",
      "your NUMBER IS 30\n",
      "your NUMBER IS 31\n",
      "your NUMBER IS 32\n",
      "your NUMBER IS 33\n",
      "your NUMBER IS 34\n",
      "your NUMBER IS 35\n",
      "your NUMBER IS 36\n",
      "your NUMBER IS 37\n",
      "your NUMBER IS 38\n",
      "your NUMBER IS 39\n",
      "your NUMBER IS 40\n",
      "your NUMBER IS 41\n",
      "your NUMBER IS 42\n",
      "your NUMBER IS 43\n",
      "your NUMBER IS 44\n",
      "your NUMBER IS 45\n",
      "your NUMBER IS 46\n",
      "your NUMBER IS 47\n",
      "your NUMBER IS 48\n",
      "your NUMBER IS 49\n",
      "your NUMBER IS 50\n",
      "your NUMBER IS 51\n",
      "your NUMBER IS 52\n",
      "your NUMBER IS 53\n",
      "your NUMBER IS 54\n",
      "your NUMBER IS 55\n",
      "your NUMBER IS 56\n",
      "your NUMBER IS 57\n",
      "your NUMBER IS 58\n",
      "your NUMBER IS 59\n",
      "your NUMBER IS 60\n",
      "your NUMBER IS 61\n",
      "your NUMBER IS 62\n",
      "your NUMBER IS 63\n",
      "your NUMBER IS 64\n",
      "your NUMBER IS 65\n",
      "your NUMBER IS 66\n",
      "your NUMBER IS 67\n",
      "your NUMBER IS 68\n",
      "your NUMBER IS 69\n",
      "your NUMBER IS 70\n",
      "your NUMBER IS 71\n",
      "your NUMBER IS 72\n",
      "your NUMBER IS 73\n",
      "your NUMBER IS 74\n",
      "your NUMBER IS 75\n",
      "your NUMBER IS 76\n",
      "your NUMBER IS 77\n",
      "your NUMBER IS 78\n",
      "your NUMBER IS 79\n",
      "your NUMBER IS 80\n",
      "your NUMBER IS 81\n",
      "your NUMBER IS 82\n",
      "your NUMBER IS 83\n",
      "your NUMBER IS 84\n",
      "your NUMBER IS 85\n",
      "your NUMBER IS 86\n",
      "your NUMBER IS 87\n",
      "your NUMBER IS 88\n",
      "your NUMBER IS 89\n",
      "your NUMBER IS 90\n",
      "your NUMBER IS 91\n",
      "your NUMBER IS 92\n",
      "your NUMBER IS 93\n",
      "your NUMBER IS 94\n",
      "your NUMBER IS 95\n",
      "your NUMBER IS 96\n",
      "your NUMBER IS 97\n",
      "your NUMBER IS 98\n",
      "your NUMBER IS 99\n",
      "your NUMBER IS 100\n",
      "your NUMBER IS 101\n",
      "your NUMBER IS 102\n",
      "your NUMBER IS 103\n",
      "your NUMBER IS 104\n",
      "your NUMBER IS 105\n",
      "your NUMBER IS 106\n",
      "your NUMBER IS 107\n",
      "your NUMBER IS 108\n",
      "your NUMBER IS 109\n",
      "your NUMBER IS 110\n",
      "your NUMBER IS 111\n",
      "your NUMBER IS 112\n",
      "your NUMBER IS 113\n",
      "your NUMBER IS 114\n",
      "your NUMBER IS 115\n",
      "your NUMBER IS 116\n",
      "your NUMBER IS 117\n",
      "your NUMBER IS 118\n",
      "your NUMBER IS 119\n",
      "your NUMBER IS 120\n",
      "your NUMBER IS 121\n",
      "your NUMBER IS 122\n",
      "your NUMBER IS 123\n",
      "your NUMBER IS 124\n",
      "your NUMBER IS 125\n",
      "your NUMBER IS 126\n",
      "your NUMBER IS 127\n",
      "your NUMBER IS 128\n",
      "your NUMBER IS 129\n",
      "your NUMBER IS 130\n",
      "your NUMBER IS 131\n",
      "your NUMBER IS 132\n",
      "your NUMBER IS 133\n",
      "your NUMBER IS 134\n",
      "your NUMBER IS 135\n",
      "your NUMBER IS 136\n",
      "your NUMBER IS 137\n",
      "your NUMBER IS 138\n",
      "your NUMBER IS 139\n",
      "your NUMBER IS 140\n",
      "your NUMBER IS 141\n",
      "your NUMBER IS 142\n",
      "your NUMBER IS 143\n",
      "your NUMBER IS 144\n",
      "your NUMBER IS 145\n",
      "your NUMBER IS 146\n",
      "your NUMBER IS 147\n",
      "your NUMBER IS 148\n",
      "your NUMBER IS 149\n",
      "your NUMBER IS 150\n",
      "your NUMBER IS 151\n",
      "your NUMBER IS 152\n",
      "your NUMBER IS 153\n",
      "your NUMBER IS 154\n",
      "your NUMBER IS 155\n",
      "your NUMBER IS 156\n",
      "your NUMBER IS 157\n",
      "your NUMBER IS 158\n",
      "your NUMBER IS 159\n",
      "your NUMBER IS 160\n",
      "your NUMBER IS 161\n",
      "your NUMBER IS 162\n",
      "your NUMBER IS 163\n",
      "your NUMBER IS 164\n",
      "your NUMBER IS 165\n",
      "your NUMBER IS 166\n",
      "your NUMBER IS 167\n",
      "your NUMBER IS 168\n",
      "your NUMBER IS 169\n",
      "your NUMBER IS 170\n",
      "your NUMBER IS 171\n",
      "your NUMBER IS 172\n",
      "your NUMBER IS 173\n",
      "your NUMBER IS 174\n",
      "your NUMBER IS 175\n",
      "your NUMBER IS 176\n",
      "your NUMBER IS 177\n",
      "your NUMBER IS 178\n",
      "your NUMBER IS 179\n",
      "your NUMBER IS 180\n",
      "your NUMBER IS 181\n",
      "your NUMBER IS 182\n",
      "your NUMBER IS 183\n",
      "your NUMBER IS 184\n",
      "your NUMBER IS 185\n",
      "your NUMBER IS 186\n",
      "your NUMBER IS 187\n",
      "your NUMBER IS 188\n",
      "your NUMBER IS 189\n",
      "your NUMBER IS 190\n",
      "your NUMBER IS 191\n",
      "your NUMBER IS 192\n",
      "your NUMBER IS 193\n",
      "your NUMBER IS 194\n",
      "your NUMBER IS 195\n",
      "your NUMBER IS 196\n",
      "your NUMBER IS 197\n",
      "your NUMBER IS 198\n",
      "your NUMBER IS 199\n",
      "your NUMBER IS 200\n",
      "your NUMBER IS 201\n",
      "your NUMBER IS 202\n",
      "your NUMBER IS 203\n",
      "your NUMBER IS 204\n",
      "your NUMBER IS 205\n",
      "your NUMBER IS 206\n",
      "your NUMBER IS 207\n",
      "your NUMBER IS 208\n",
      "your NUMBER IS 209\n",
      "your NUMBER IS 210\n",
      "your NUMBER IS 211\n",
      "your NUMBER IS 212\n",
      "your NUMBER IS 213\n",
      "your NUMBER IS 214\n",
      "your NUMBER IS 215\n",
      "your NUMBER IS 216\n",
      "your NUMBER IS 217\n",
      "your NUMBER IS 218\n",
      "your NUMBER IS 219\n",
      "your NUMBER IS 220\n",
      "your NUMBER IS 221\n",
      "your NUMBER IS 222\n",
      "your NUMBER IS 223\n",
      "your NUMBER IS 224\n",
      "your NUMBER IS 225\n",
      "your NUMBER IS 226\n",
      "your NUMBER IS 227\n",
      "your NUMBER IS 228\n",
      "your NUMBER IS 229\n",
      "your NUMBER IS 230\n",
      "your NUMBER IS 231\n",
      "your NUMBER IS 232\n",
      "your NUMBER IS 233\n",
      "your NUMBER IS 234\n",
      "your NUMBER IS 235\n",
      "your NUMBER IS 236\n",
      "your NUMBER IS 237\n",
      "your NUMBER IS 238\n",
      "your NUMBER IS 239\n",
      "your NUMBER IS 240\n",
      "your NUMBER IS 241\n",
      "your NUMBER IS 242\n",
      "your NUMBER IS 243\n",
      "your NUMBER IS 244\n",
      "your NUMBER IS 245\n",
      "your NUMBER IS 246\n",
      "your NUMBER IS 247\n",
      "your NUMBER IS 248\n",
      "your NUMBER IS 249\n",
      "your NUMBER IS 250\n",
      "your NUMBER IS 251\n",
      "your NUMBER IS 252\n",
      "your NUMBER IS 253\n",
      "your NUMBER IS 254\n",
      "your NUMBER IS 255\n",
      "your NUMBER IS 256\n",
      "your NUMBER IS 257\n",
      "your NUMBER IS 258\n",
      "your NUMBER IS 259\n",
      "your NUMBER IS 260\n",
      "your NUMBER IS 261\n",
      "your NUMBER IS 262\n",
      "your NUMBER IS 263\n",
      "your NUMBER IS 264\n",
      "your NUMBER IS 265\n",
      "your NUMBER IS 266\n",
      "your NUMBER IS 267\n",
      "your NUMBER IS 268\n",
      "your NUMBER IS 269\n",
      "your NUMBER IS 270\n",
      "your NUMBER IS 271\n",
      "your NUMBER IS 272\n",
      "your NUMBER IS 273\n",
      "your NUMBER IS 274\n",
      "your NUMBER IS 275\n",
      "your NUMBER IS 276\n",
      "your NUMBER IS 277\n",
      "your NUMBER IS 278\n",
      "your NUMBER IS 279\n",
      "your NUMBER IS 280\n",
      "your NUMBER IS 281\n",
      "your NUMBER IS 282\n",
      "your NUMBER IS 283\n",
      "your NUMBER IS 284\n",
      "your NUMBER IS 285\n",
      "your NUMBER IS 286\n",
      "your NUMBER IS 287\n",
      "your NUMBER IS 288\n",
      "your NUMBER IS 289\n",
      "your NUMBER IS 290\n",
      "your NUMBER IS 291\n",
      "your NUMBER IS 292\n",
      "your NUMBER IS 293\n",
      "your NUMBER IS 294\n",
      "your NUMBER IS 295\n",
      "your NUMBER IS 296\n",
      "your NUMBER IS 297\n",
      "your NUMBER IS 298\n",
      "your NUMBER IS 299\n",
      "your NUMBER IS 300\n",
      "your NUMBER IS 301\n",
      "your NUMBER IS 302\n",
      "your NUMBER IS 303\n",
      "your NUMBER IS 304\n",
      "your NUMBER IS 305\n",
      "your NUMBER IS 306\n",
      "your NUMBER IS 307\n",
      "your NUMBER IS 308\n",
      "your NUMBER IS 309\n",
      "your NUMBER IS 310\n",
      "your NUMBER IS 311\n",
      "your NUMBER IS 312\n",
      "your NUMBER IS 313\n",
      "your NUMBER IS 314\n",
      "your NUMBER IS 315\n",
      "your NUMBER IS 316\n",
      "your NUMBER IS 317\n",
      "your NUMBER IS 318\n",
      "your NUMBER IS 319\n",
      "your NUMBER IS 320\n",
      "your NUMBER IS 321\n",
      "your NUMBER IS 322\n",
      "your NUMBER IS 323\n",
      "your NUMBER IS 324\n",
      "your NUMBER IS 325\n",
      "your NUMBER IS 326\n",
      "your NUMBER IS 327\n",
      "your NUMBER IS 328\n",
      "your NUMBER IS 329\n",
      "your NUMBER IS 330\n",
      "your NUMBER IS 331\n",
      "your NUMBER IS 332\n",
      "your NUMBER IS 333\n",
      "your NUMBER IS 334\n",
      "your NUMBER IS 335\n",
      "your NUMBER IS 336\n",
      "your NUMBER IS 337\n",
      "your NUMBER IS 338\n",
      "your NUMBER IS 339\n",
      "your NUMBER IS 340\n",
      "your NUMBER IS 341\n",
      "your NUMBER IS 342\n",
      "your NUMBER IS 343\n",
      "your NUMBER IS 344\n",
      "your NUMBER IS 345\n",
      "your NUMBER IS 346\n",
      "your NUMBER IS 347\n",
      "your NUMBER IS 348\n",
      "your NUMBER IS 349\n",
      "your NUMBER IS 350\n",
      "your NUMBER IS 351\n",
      "your NUMBER IS 352\n",
      "your NUMBER IS 353\n",
      "your NUMBER IS 354\n",
      "your NUMBER IS 355\n",
      "your NUMBER IS 356\n",
      "your NUMBER IS 357\n",
      "your NUMBER IS 358\n",
      "your NUMBER IS 359\n",
      "your NUMBER IS 360\n",
      "your NUMBER IS 361\n",
      "your NUMBER IS 362\n",
      "your NUMBER IS 363\n",
      "your NUMBER IS 364\n",
      "your NUMBER IS 365\n",
      "your NUMBER IS 366\n",
      "your NUMBER IS 367\n",
      "your NUMBER IS 368\n",
      "your NUMBER IS 369\n",
      "your NUMBER IS 370\n",
      "your NUMBER IS 371\n",
      "your NUMBER IS 372\n",
      "your NUMBER IS 373\n",
      "your NUMBER IS 374\n",
      "your NUMBER IS 375\n",
      "your NUMBER IS 376\n",
      "your NUMBER IS 377\n",
      "your NUMBER IS 378\n",
      "your NUMBER IS 379\n",
      "your NUMBER IS 380\n",
      "your NUMBER IS 381\n",
      "your NUMBER IS 382\n",
      "your NUMBER IS 383\n",
      "your NUMBER IS 384\n",
      "your NUMBER IS 385\n",
      "your NUMBER IS 386\n",
      "your NUMBER IS 387\n",
      "your NUMBER IS 388\n",
      "your NUMBER IS 389\n",
      "your NUMBER IS 390\n",
      "your NUMBER IS 391\n",
      "your NUMBER IS 392\n",
      "your NUMBER IS 393\n",
      "your NUMBER IS 394\n",
      "your NUMBER IS 395\n",
      "your NUMBER IS 396\n",
      "your NUMBER IS 397\n",
      "your NUMBER IS 398\n",
      "your NUMBER IS 399\n",
      "your NUMBER IS 400\n",
      "your NUMBER IS 401\n",
      "your NUMBER IS 402\n",
      "your NUMBER IS 403\n",
      "your NUMBER IS 404\n",
      "your NUMBER IS 405\n",
      "your NUMBER IS 406\n",
      "your NUMBER IS 407\n",
      "your NUMBER IS 408\n",
      "your NUMBER IS 409\n",
      "your NUMBER IS 410\n",
      "your NUMBER IS 411\n",
      "your NUMBER IS 412\n",
      "your NUMBER IS 413\n",
      "your NUMBER IS 414\n",
      "your NUMBER IS 415\n",
      "your NUMBER IS 416\n",
      "your NUMBER IS 417\n",
      "your NUMBER IS 418\n",
      "your NUMBER IS 419\n",
      "your NUMBER IS 420\n",
      "your NUMBER IS 421\n",
      "your NUMBER IS 422\n",
      "your NUMBER IS 423\n",
      "your NUMBER IS 424\n",
      "your NUMBER IS 425\n",
      "your NUMBER IS 426\n",
      "your NUMBER IS 427\n",
      "your NUMBER IS 428\n",
      "your NUMBER IS 429\n",
      "your NUMBER IS 430\n",
      "your NUMBER IS 431\n",
      "your NUMBER IS 432\n",
      "your NUMBER IS 433\n",
      "your NUMBER IS 434\n",
      "your NUMBER IS 435\n",
      "your NUMBER IS 436\n",
      "your NUMBER IS 437\n",
      "your NUMBER IS 438\n",
      "your NUMBER IS 439\n",
      "your NUMBER IS 440\n",
      "your NUMBER IS 441\n",
      "your NUMBER IS 442\n",
      "your NUMBER IS 443\n",
      "your NUMBER IS 444\n",
      "your NUMBER IS 445\n",
      "your NUMBER IS 446\n",
      "your NUMBER IS 447\n",
      "your NUMBER IS 448\n",
      "your NUMBER IS 449\n",
      "your NUMBER IS 450\n",
      "your NUMBER IS 451\n",
      "your NUMBER IS 452\n",
      "your NUMBER IS 453\n",
      "your NUMBER IS 454\n",
      "your NUMBER IS 455\n",
      "your NUMBER IS 456\n",
      "your NUMBER IS 457\n",
      "your NUMBER IS 458\n",
      "your NUMBER IS 459\n",
      "your NUMBER IS 460\n",
      "your NUMBER IS 461\n",
      "your NUMBER IS 462\n",
      "your NUMBER IS 463\n",
      "your NUMBER IS 464\n",
      "your NUMBER IS 465\n",
      "your NUMBER IS 466\n",
      "your NUMBER IS 467\n",
      "your NUMBER IS 468\n",
      "your NUMBER IS 469\n",
      "your NUMBER IS 470\n",
      "your NUMBER IS 471\n",
      "your NUMBER IS 472\n",
      "your NUMBER IS 473\n",
      "your NUMBER IS 474\n",
      "your NUMBER IS 475\n",
      "your NUMBER IS 476\n",
      "your NUMBER IS 477\n",
      "your NUMBER IS 478\n",
      "your NUMBER IS 479\n",
      "your NUMBER IS 480\n",
      "your NUMBER IS 481\n",
      "your NUMBER IS 482\n",
      "your NUMBER IS 483\n",
      "your NUMBER IS 484\n",
      "your NUMBER IS 485\n",
      "your NUMBER IS 486\n",
      "your NUMBER IS 487\n",
      "your NUMBER IS 488\n",
      "your NUMBER IS 489\n",
      "your NUMBER IS 490\n",
      "your NUMBER IS 491\n",
      "your NUMBER IS 492\n",
      "your NUMBER IS 493\n",
      "your NUMBER IS 494\n",
      "your NUMBER IS 495\n",
      "your NUMBER IS 496\n",
      "your NUMBER IS 497\n",
      "your NUMBER IS 498\n",
      "your NUMBER IS 499\n"
     ]
    }
   ],
   "source": [
    "\n",
    "var  = True\n",
    "num1 = 1\n",
    "while var:\n",
    "  print(f\"your NUMBER IS {num1}\")\n",
    "  num1 += 1\n",
    "\n",
    "  if num1 == 500:\n",
    "    break\n",
    "\n"
   ]
  },
  {
   "cell_type": "code",
   "execution_count": 7,
   "metadata": {},
   "outputs": [
    {
     "name": "stdout",
     "output_type": "stream",
     "text": [
      "Please Enter The NUmber Between 1 to 12\n"
     ]
    }
   ],
   "source": [
    "num = int(input(\"Plase enter the any number from 1 to 12 to check month name\"))\n",
    "months= [ \"January\", \"February\", \"March\", \"April\", \"May\", \"June\", \"July\",\n",
    "    \"August\", \"September\", \"October\", \"November\", \"December\"\n",
    "  ]\n",
    "if 1<=num<=12:\n",
    "    print(months[num-1])\n",
    "else:\n",
    "    print(\"Please Enter The NUmber Between 1 to 12\")"
   ]
  },
  {
   "cell_type": "code",
   "execution_count": 1,
   "metadata": {},
   "outputs": [
    {
     "name": "stdout",
     "output_type": "stream",
     "text": [
      "3\n",
      "6\n",
      "9\n",
      "12\n",
      "15\n",
      "18\n",
      "21\n",
      "24\n",
      "27\n",
      "30\n",
      "33\n",
      "36\n",
      "39\n",
      "42\n",
      "45\n",
      "48\n",
      "51\n",
      "54\n",
      "57\n",
      "60\n",
      "63\n",
      "66\n",
      "69\n",
      "72\n",
      "75\n",
      "78\n",
      "81\n",
      "84\n",
      "87\n",
      "90\n",
      "93\n",
      "96\n",
      "99\n",
      "102\n",
      "105\n",
      "108\n",
      "111\n",
      "114\n",
      "117\n",
      "120\n",
      "123\n",
      "126\n",
      "129\n",
      "132\n",
      "135\n",
      "138\n",
      "141\n",
      "144\n",
      "147\n",
      "150\n"
     ]
    }
   ],
   "source": [
    "count = 0\n",
    "num = 1\n",
    "\n",
    "while count < 50:\n",
    "    if num % 3 == 0:\n",
    "        print(num)\n",
    "        count += 1\n",
    "    num += 1\n"
   ]
  },
  {
   "cell_type": "code",
   "execution_count": 1,
   "metadata": {},
   "outputs": [
    {
     "name": "stdout",
     "output_type": "stream",
     "text": [
      "[5, 10, 15, 20, 25, 30, 35, 40, 45, 50, 55, 60, 65, 70, 75, 80, 85, 90, 95, 100, 105, 110, 115, 120, 125, 130, 135, 140, 145, 150, 155, 160, 165, 170, 175, 180, 185, 190, 195, 200, 205, 210, 215, 220, 225, 230, 235, 240, 245, 250]\n"
     ]
    }
   ],
   "source": [
    "# Initialize an empty list to store the numbers\n",
    "# from typing import List\n",
    "# divisible_by_5:list[int] = []\n",
    "\n",
    "# # Start counting from 5, the first number divisible by 5\n",
    "# num = 5\n",
    "\n",
    "# # Continue until we have 50 numbers in the list\n",
    "# while len(divisible_by_5) < 50:\n",
    "#     # Check if the number is divisible by 5\n",
    "#     if num % 5 == 0:\n",
    "#         divisible_by_5.append(num)\n",
    "#     # Move to the next number\n",
    "#     num += 1\n",
    "\n",
    "# # Print the first 50 numbers divisible by 5\n",
    "# print(divisible_by_5)\n"
   ]
  },
  {
   "cell_type": "code",
   "execution_count": 2,
   "metadata": {},
   "outputs": [
    {
     "name": "stdout",
     "output_type": "stream",
     "text": [
      "[50, 100, 150, 200, 250, 300, 350, 400, 450, 500, 550, 600, 650, 700, 750, 800, 850, 900, 950, 1000, 1050, 1100, 1150, 1200, 1250, 1300, 1350, 1400, 1450, 1500, 1550, 1600, 1650, 1700, 1750, 1800, 1850, 1900, 1950, 2000, 2050, 2100, 2150, 2200, 2250, 2300, 2350, 2400, 2450, 2500]\n"
     ]
    }
   ],
   "source": [
    "# from typing import List\n",
    "# divisible_by_10 : list[int] =[]\n",
    "# num = 5\n",
    "# while len(divisible_by_10) < 50:\n",
    "#     if num % 5 == 0:\n",
    "#         divisible_by_10.append(num)\n",
    "#     num += 1\n",
    "# print(divisible_by_10) "
   ]
  },
  {
   "cell_type": "code",
   "execution_count": 3,
   "metadata": {},
   "outputs": [
    {
     "name": "stdout",
     "output_type": "stream",
     "text": [
      "[5, 10, 15, 20, 25, 30, 35, 40, 45, 50, 55, 60, 65, 70, 75, 80, 85, 90, 95, 100, 105, 110, 115, 120, 125, 130, 135, 140, 145, 150, 155, 160, 165, 170, 175, 180, 185, 190, 195, 200, 205, 210, 215, 220, 225, 230, 235, 240, 245, 250]\n"
     ]
    }
   ],
   "source": [
    "divisble_by_5 :list[int] = []\n",
    "num = 5\n",
    "while len(divisble_by_5) < 50:\n",
    "    if num % 5 == 0 :\n",
    "        divisble_by_5.append(num)\n",
    "    num += 1\n",
    "print(divisble_by_5)\n",
    "        "
   ]
  },
  {
   "cell_type": "code",
   "execution_count": 20,
   "metadata": {},
   "outputs": [
    {
     "name": "stdout",
     "output_type": "stream",
     "text": [
      "no.1:0 and current number is 100\n",
      "no.1:1 and current number is 200\n",
      "no.1:2 and current number is 300\n"
     ]
    }
   ],
   "source": [
    "li :list[int] = [100,200,300]\n",
    "index: int = 0\n",
    "while index < len(li):\n",
    "    print(f\"no.1:{index} and current number is {li[index]}\")\n",
    "    index += 1\n"
   ]
  },
  {
   "cell_type": "code",
   "execution_count": 7,
   "metadata": {},
   "outputs": [
    {
     "name": "stdout",
     "output_type": "stream",
     "text": [
      "[{'Name': 'kdldldkkd', 'education': 'dnkdldkdkj'}, {'Name': 'ldjkdlds', 'education': 'dsllsjkjf'}, {'Name': 'pskksbfj', 'education': ';slkdkjd'}, {'Name': 'lskkdi', 'education': 'd;ksknd'}]\n"
     ]
    }
   ],
   "source": [
    "name_List : list[str] = []\n",
    "data : list[dict[str,str]] =[]\n",
    "item : bool = True\n",
    "while item:\n",
    "    name = str(input(\"please enter your name if you stop the program enter input quite\"))\n",
    "    education = str(input(\"please enter your name if you stop the program enter input quite\"))\n",
    "    if name in [\"stop\",\"Quite\",\"exit\"]:\n",
    "        item = False\n",
    "        break\n",
    "    data.append({\n",
    "                \"Name\":name,\n",
    "                \"education\":education\n",
    "        \n",
    "                        })\n",
    "\n",
    "print(data)"
   ]
  },
  {
   "cell_type": "code",
   "execution_count": 8,
   "metadata": {},
   "outputs": [
    {
     "name": "stdout",
     "output_type": "stream",
     "text": [
      "1st character of pakistan is p\n",
      "2nd character of pakistan is a\n",
      "3rd character of pakistan is k\n",
      "4th character of pakistan is i\n",
      "5th character of pakistan is s\n",
      "6th character of pakistan is t\n",
      "7th character of pakistan is a\n",
      "8th character of pakistan is n\n"
     ]
    }
   ],
   "source": [
    "c: str = \"pakistan\"\n",
    "num: int = 1\n",
    "\n",
    "for l1 in c:\n",
    "    if num == 1:\n",
    "        print(f\"{num}st character of {c} is {l1}\")\n",
    "    elif num == 2:\n",
    "        print(f\"{num}nd character of {c} is {l1}\")\n",
    "    elif num == 3:\n",
    "        print(f\"{num}rd character of {c} is {l1}\")\n",
    "    else:\n",
    "        print(f\"{num}th character of {c} is {l1}\")\n",
    "    num += 1\n"
   ]
  },
  {
   "cell_type": "code",
   "execution_count": 9,
   "metadata": {},
   "outputs": [
    {
     "name": "stdout",
     "output_type": "stream",
     "text": [
      "1st charater of Pakistan is: P\n",
      "2th charater of Pakistan is: a\n",
      "3th charater of Pakistan is: k\n",
      "4th charater of Pakistan is: i\n",
      "5th charater of Pakistan is: s\n",
      "6th charater of Pakistan is: t\n",
      "7th charater of Pakistan is: a\n",
      "8th charater of Pakistan is: n\n"
     ]
    }
   ],
   "source": [
    "c : str = \"Pakistan\"\n",
    "num = 1\n",
    "for i in c:\n",
    "    if num ==1:\n",
    "        print(f\"{num}st charater of {c} is: {i}\")\n",
    "    elif num ==2:\n",
    "        print(f\"{num}nd charater of {c} is: {i}\")\n",
    "    elif num ==3:\n",
    "        print(f\"{num}rd charater of {c} is: {i}\")\n",
    "    else:\n",
    "        print(f\"{num}th charater of {c} is: {i}\")\n",
    "    num += 1"
   ]
  },
  {
   "cell_type": "code",
   "execution_count": 10,
   "metadata": {},
   "outputs": [
    {
     "data": {
      "text/plain": [
       "[('Syyed Muhammad ', 'A', 1), ('Ali Ahmad', 'b', 2), ('Shah', 'c', 3)]"
      ]
     },
     "execution_count": 10,
     "metadata": {},
     "output_type": "execute_result"
    }
   ],
   "source": [
    "names = [\"Syyed Muhammad \",\"Ali Ahmad\",\"Shah\"]\n",
    "fNames = [\"A\",\"b\",\"c\"]\n",
    "line =[1,2,3]\n",
    "list(zip(names,fNames,line))\n"
   ]
  },
  {
   "cell_type": "code",
   "execution_count": 25,
   "metadata": {},
   "outputs": [
    {
     "name": "stdout",
     "output_type": "stream",
     "text": [
      "1st\n",
      "2nd\n",
      "3rd\n",
      "4th\n",
      "5th\n",
      "6th\n",
      "7th\n",
      "8th\n",
      "9th\n",
      "10th\n"
     ]
    }
   ],
   "source": [
    "num = 1\n",
    "flag = True\n",
    "while flag:\n",
    "    if num == 1:\n",
    "        print(f\"{num}st\")\n",
    "    elif num == 2:\n",
    "        print(f\"{num}nd\")\n",
    "    elif num == 3:\n",
    "        print(f\"{num}rd\")\n",
    "    else:\n",
    "        print(f\"{num}th\")\n",
    "    \n",
    "    num += 1\n",
    "    \n",
    "    if num > 10:  # changed from 9 to 10 to include 9 in the output\n",
    "        flag = False\n"
   ]
  },
  {
   "cell_type": "code",
   "execution_count": 59,
   "metadata": {},
   "outputs": [
    {
     "name": "stdout",
     "output_type": "stream",
     "text": [
      "1st\n"
     ]
    }
   ],
   "source": [
    "number = 1 \n",
    "Flag = True\n",
    "while Flag:\n",
    "    if number == 1:\n",
    "        print(f\"{number}st\")\n",
    "    elif number == 2:\n",
    "        print(f\"{number}nd\")\n",
    "    elif number == 3:\n",
    "        print(f\"{number}rd\") \n",
    "    else:\n",
    "        print(f\"{number}th\") \n",
    "    \n",
    "    number += 1\n",
    "    \n",
    "    if num >= 10:\n",
    "        Flag = False\n"
   ]
  },
  {
   "cell_type": "code",
   "execution_count": 64,
   "metadata": {},
   "outputs": [
    {
     "name": "stdout",
     "output_type": "stream",
     "text": [
      "25 x 1 = 25\n",
      "25 x 2 = 50\n",
      "25 x 3 = 75\n",
      "25 x 4 = 100\n",
      "25 x 5 = 125\n",
      "25 x 6 = 150\n",
      "25 x 7 = 175\n",
      "25 x 8 = 200\n",
      "25 x 10 = 250\n"
     ]
    }
   ],
   "source": [
    "for i in range(1,11):\n",
    "    multiply = i*25\n",
    "    if multiply == 225:\n",
    "        continue\n",
    "    print(f\"25 x {i} = {multiply}\")"
   ]
  },
  {
   "cell_type": "code",
   "execution_count": 69,
   "metadata": {},
   "outputs": [
    {
     "name": "stdout",
     "output_type": "stream",
     "text": [
      "hsamqbhdkjsnxhewjew\n"
     ]
    }
   ],
   "source": [
    "prompt = \"whats your Name\"\n",
    "prompt += \"\\nHow  are you doing in two days \"\n",
    "name = input(prompt)\n",
    "print(name)"
   ]
  },
  {
   "cell_type": "code",
   "execution_count": 70,
   "metadata": {},
   "outputs": [
    {
     "name": "stdout",
     "output_type": "stream",
     "text": [
      "['apple', 'banana', 'cherry']\n"
     ]
    }
   ],
   "source": [
    "fruits = ['banana', 'apple', 'cherry']\n",
    "fruits.sort()\n",
    "print(fruits)  # Output: ['apple', 'banana', 'cherry']\n"
   ]
  },
  {
   "cell_type": "code",
   "execution_count": 72,
   "metadata": {},
   "outputs": [
    {
     "name": "stdout",
     "output_type": "stream",
     "text": [
      "['adgfh']\n",
      "['adgfh', 'adfg']\n",
      "['adgfh', 'adfg', 'fhjk']\n",
      "['adgfh', 'adfg', 'fhjk', 'hgfccjkh']\n"
     ]
    }
   ],
   "source": [
    "active : bool = True #make  a Flag\n",
    "message_prompt : list[str] = []\n",
    "while active :\n",
    "    message = input(\"Please write something\")\n",
    "    message_prompt.append(message)\n",
    "    if message == \"quite\":\n",
    "        active = False\n",
    "    else:\n",
    "        print(message_prompt)\n",
    "    "
   ]
  },
  {
   "cell_type": "code",
   "execution_count": 2,
   "metadata": {},
   "outputs": [],
   "source": [
    "def add_Two_Number(num1:int , num2 : int)->int:\n",
    "    return num1+num2\n",
    "\n",
    "add_Two_Number(7,20)# arg1 ,arg2"
   ]
  },
  {
   "cell_type": "code",
   "execution_count": null,
   "metadata": {},
   "outputs": [],
   "source": [
    "def multiply_Two_Number(number1 : int , number2: int):\n",
    "   return number1*number2\n",
    "\n",
    "\n",
    "multiply_Two_Number(34,35)"
   ]
  },
  {
   "cell_type": "code",
   "execution_count": 4,
   "metadata": {},
   "outputs": [
    {
     "data": {
      "text/plain": [
       "36"
      ]
     },
     "execution_count": 4,
     "metadata": {},
     "output_type": "execute_result"
    }
   ],
   "source": [
    "a = lambda num1,num2 : num1+num2\n",
    "a(2,34)"
   ]
  },
  {
   "cell_type": "code",
   "execution_count": 7,
   "metadata": {},
   "outputs": [
    {
     "data": {
      "text/plain": [
       "[1, 4, 9, 16, 25, 36, 49, 64, 81]"
      ]
     },
     "execution_count": 7,
     "metadata": {},
     "output_type": "execute_result"
    }
   ],
   "source": [
    "data : list[int] = [1,2,3,4,5,6,7,8,9]\n",
    "\n",
    "data= list(map(lambda x: x**2,data))\n",
    "data\n"
   ]
  },
  {
   "cell_type": "code",
   "execution_count": 9,
   "metadata": {},
   "outputs": [
    {
     "data": {
      "text/plain": [
       "[1, 3, 5, 7, 9]"
      ]
     },
     "execution_count": 9,
     "metadata": {},
     "output_type": "execute_result"
    }
   ],
   "source": [
    "data : list[int] = [1,2,3,4,5,6,7,8,9]\n",
    "\n",
    "data= list(filter(lambda x: x%2,data))\n",
    "data\n"
   ]
  },
  {
   "cell_type": "code",
   "execution_count": 3,
   "metadata": {},
   "outputs": [
    {
     "name": "stdout",
     "output_type": "stream",
     "text": [
      "1\n",
      "2\n",
      "3\n",
      "4\n",
      "5\n",
      "6\n",
      "7\n",
      "[8, 9, 10, 11, 12, 13]\n"
     ]
    }
   ],
   "source": [
    "def new_Generated_Func(start:int,end:int,step:int = 1):\n",
    "    for i in range(start,end+1,step):\n",
    "        yield i\n",
    "a = new_Generated_Func(1,13)\n",
    "print(next(a))\n",
    "print(next(a))\n",
    "print(next(a))\n",
    "print(next(a))\n",
    "print(next(a))\n",
    "print(next(a))\n",
    "print(next(a))\n",
    "print(list(a)) "
   ]
  },
  {
   "cell_type": "code",
   "execution_count": 9,
   "metadata": {},
   "outputs": [
    {
     "name": "stdout",
     "output_type": "stream",
     "text": [
      "1\n",
      "2\n",
      "3\n",
      "4\n",
      "5\n",
      "6\n",
      "7\n",
      "<class 'generator'>\n"
     ]
    },
    {
     "data": {
      "text/plain": [
       "['__class__',\n",
       " '__del__',\n",
       " '__delattr__',\n",
       " '__dir__',\n",
       " '__doc__',\n",
       " '__eq__',\n",
       " '__format__',\n",
       " '__ge__',\n",
       " '__getattribute__',\n",
       " '__getstate__',\n",
       " '__gt__',\n",
       " '__hash__',\n",
       " '__init__',\n",
       " '__init_subclass__',\n",
       " '__iter__',\n",
       " '__le__',\n",
       " '__lt__',\n",
       " '__name__',\n",
       " '__ne__',\n",
       " '__new__',\n",
       " '__next__',\n",
       " '__qualname__',\n",
       " '__reduce__',\n",
       " '__reduce_ex__',\n",
       " '__repr__',\n",
       " '__setattr__',\n",
       " '__sizeof__',\n",
       " '__str__',\n",
       " '__subclasshook__',\n",
       " 'close',\n",
       " 'gi_code',\n",
       " 'gi_frame',\n",
       " 'gi_running',\n",
       " 'gi_suspended',\n",
       " 'gi_yieldfrom',\n",
       " 'send',\n",
       " 'throw']"
      ]
     },
     "execution_count": 9,
     "metadata": {},
     "output_type": "execute_result"
    }
   ],
   "source": [
    "def creater():\n",
    "   \n",
    "    i = 1\n",
    "    while i <=201:\n",
    "        yield i\n",
    "        i += 1\n",
    "        \n",
    "        \n",
    "x = creater()\n",
    "print(next(x))\n",
    "print(next(x))\n",
    "print(next(x))\n",
    "print(next(x))\n",
    "print(next(x))\n",
    "print(next(x))\n",
    "print(next(x))\n",
    "\n",
    "print(type(x))\n",
    "dir(x)"
   ]
  },
  {
   "cell_type": "markdown",
   "metadata": {},
   "source": [
    "'__class__',\n",
    " '__del__',\n",
    " '__delattr__',\n",
    " '__dir__',\n",
    " '__doc__',\n",
    " '__eq__',\n",
    " '__format__',\n",
    " '__ge__',\n",
    " '__getattribute__',\n",
    " '__getstate__',\n",
    " '__gt__',\n",
    " '__hash__',\n",
    " '__init__',\n",
    " '__init_subclass__',\n",
    " '__iter__',\n",
    "...\n",
    " 'gi_running',\n",
    " 'gi_suspended',\n",
    " 'gi_yieldfrom',\n",
    " 'send',\n",
    " 'throw'"
   ]
  },
  {
   "cell_type": "code",
   "execution_count": 14,
   "metadata": {},
   "outputs": [
    {
     "name": "stdout",
     "output_type": "stream",
     "text": [
      "2\n"
     ]
    }
   ],
   "source": [
    "data  = filter (lambda x: x%2 == 0, range(1 , 100))\n",
    "print(next(data))\n"
   ]
  },
  {
   "cell_type": "code",
   "execution_count": 16,
   "metadata": {},
   "outputs": [
    {
     "name": "stdout",
     "output_type": "stream",
     "text": [
      "(1, 2, 3, 4, 5, 6, 7, 78, 8, 6) <class 'tuple'>\n"
     ]
    }
   ],
   "source": [
    "def abc (*nums):\n",
    "    print(nums,type(nums))\n",
    "    \n",
    "abc(1,2,3,4,5,6,7,78,8,6)"
   ]
  },
  {
   "cell_type": "code",
   "execution_count": 17,
   "metadata": {},
   "outputs": [
    {
     "name": "stdout",
     "output_type": "stream",
     "text": [
      " number 145 /number 2 57\n"
     ]
    },
    {
     "data": {
      "text/plain": [
       "2565"
      ]
     },
     "execution_count": 17,
     "metadata": {},
     "output_type": "execute_result"
    }
   ],
   "source": [
    "def add_Two_Number(num1: int, num2:int):\n",
    "    print(f\" number 1{num1} /number 2 {num2}\")\n",
    "    return num1*num2\n",
    "    \n",
    "add_Two_Number(45,57)    "
   ]
  },
  {
   "cell_type": "code",
   "execution_count": 10,
   "metadata": {},
   "outputs": [
    {
     "name": "stdout",
     "output_type": "stream",
     "text": [
      "5\n",
      "5\n",
      "['Punjab', 'Bolchistan', 'Sindh', 'Khaiber Pakhtoon Khawa', 'Azad jamu Kashmir']\n",
      " ['Punjab', 'Bolchistan', 'Sindh', 'Khaiber Pakhtoon Khawa', 'Azad jamu Kashmir']\n"
     ]
    }
   ],
   "source": [
    "Cpital = [\"Punjab\",\"Bolchistan\",\"Sindh\",\"Khaiber Pakhtoon Khawa\",\"Azad jamu Kashmir\"]\n",
    "def list_of_len(list):\n",
    "    print(len(list))\n",
    "    return list\n",
    "    \n",
    "list_of_len(Cpital)\n",
    "list_of_len(Cpital)\n",
    "print(Cpital, end=\"\\n \")\n",
    "print(Cpital)\n",
    "   "
   ]
  },
  {
   "cell_type": "code",
   "execution_count": 20,
   "metadata": {},
   "outputs": [
    {
     "name": "stdout",
     "output_type": "stream",
     "text": [
      "Apple\n",
      "Bnana\n",
      "Orrange\n",
      "Pine Apple\n",
      "Cherry\n",
      "Mango\n"
     ]
    }
   ],
   "source": [
    "fruitesNames :list[str] = [\"Apple\",\"Bnana\",\"Orrange\",\"Pine Apple\",\"Cherry\",\"Mango\"]\n",
    "def friutList(list):\n",
    "    for item in list:\n",
    "        print(item)\n",
    "friutList(fruitesNames)"
   ]
  },
  {
   "cell_type": "code",
   "execution_count": 31,
   "metadata": {},
   "outputs": [
    {
     "name": "stdout",
     "output_type": "stream",
     "text": [
      "720\n"
     ]
    }
   ],
   "source": [
    "def cal_fact(n):\n",
    "    facts = 1\n",
    "    for i in range(1,n+1):\n",
    "        facts *= i\n",
    "    print(facts)\n",
    "    \n",
    "cal_fact(6)\n",
    "    "
   ]
  },
  {
   "cell_type": "code",
   "execution_count": 23,
   "metadata": {},
   "outputs": [
    {
     "name": "stdout",
     "output_type": "stream",
     "text": [
      "the factorial of 9 is 362880\n"
     ]
    }
   ],
   "source": [
    "factorialNums = int(input(\"write any number to find the factorial\"))\n",
    "fact:int = 1\n",
    "def factNum():\n",
    "    global fact\n",
    "    for i in range (1,factorialNums+1):\n",
    "        fact *= i\n",
    "    return fact\n",
    "        \n",
    "result = factNum()\n",
    "print(f\"the factorial of {factorialNums} is {result}\")"
   ]
  },
  {
   "cell_type": "code",
   "execution_count": 42,
   "metadata": {},
   "outputs": [
    {
     "name": "stdout",
     "output_type": "stream",
     "text": [
      "657$ is = 183960 PKR\n"
     ]
    }
   ],
   "source": [
    "\n",
    "def convertRupess (nums,converstaion_rate = 280):\n",
    "    return nums* converstaion_rate\n",
    "try:\n",
    "    user_input =int(input(\"Please Enter your money you convert into pakistani Rupess\")) \n",
    "    results = convertRupess(user_input)\n",
    "    print(f\"{user_input}$ is = {results} PKR\")\n",
    "except ValueError:\n",
    "    print(\"invalid input please enter a valid input\")"
   ]
  },
  {
   "cell_type": "markdown",
   "metadata": {},
   "source": [
    "Recursion :\n",
    " When a function call itself repeatedly \n",
    "            so it is callled recursion \n",
    "show it is for example :\n",
    "\n",
    "          def  show():\n",
    "             if (n==0):\n",
    "              return\n",
    "            print(n)\n",
    "            show(n-1)\n",
    "            "
   ]
  },
  {
   "cell_type": "code",
   "execution_count": 52,
   "metadata": {},
   "outputs": [
    {
     "name": "stdout",
     "output_type": "stream",
     "text": [
      "8\n",
      "7\n",
      "6\n",
      "5\n",
      "end\n",
      "4\n",
      "3\n",
      "2\n",
      "1\n",
      "0\n",
      "-1\n",
      "-2\n",
      "-3\n",
      "-4\n",
      "-5\n",
      "-6\n",
      "-7\n",
      "-8\n",
      "-9\n",
      "-10\n",
      "-11\n",
      "-12\n",
      "-13\n",
      "-14\n",
      "-15\n",
      "-16\n",
      "-17\n",
      "-18\n",
      "-19\n",
      "-20\n",
      "-21\n",
      "-22\n",
      "-23\n",
      "-24\n",
      "-25\n",
      "-26\n",
      "-27\n",
      "-28\n",
      "-29\n",
      "-30\n",
      "-31\n",
      "-32\n",
      "-33\n",
      "-34\n",
      "-35\n",
      "-36\n",
      "-37\n",
      "-38\n",
      "-39\n",
      "-40\n",
      "-41\n",
      "-42\n",
      "-43\n",
      "-44\n",
      "-45\n",
      "-46\n",
      "-47\n",
      "-48\n",
      "-49\n",
      "-50\n",
      "-51\n",
      "-52\n",
      "-53\n",
      "-54\n",
      "-55\n",
      "-56\n",
      "-57\n",
      "-58\n",
      "-59\n",
      "-60\n",
      "-61\n",
      "-62\n",
      "-63\n",
      "-64\n",
      "-65\n",
      "-66\n",
      "-67\n",
      "-68\n",
      "-69\n",
      "-70\n",
      "-71\n",
      "-72\n",
      "-73\n",
      "-74\n",
      "-75\n",
      "-76\n",
      "-77\n",
      "-78\n",
      "-79\n",
      "-80\n",
      "-81\n",
      "-82\n",
      "-83\n",
      "-84\n",
      "-85\n",
      "-86\n",
      "-87\n",
      "-88\n",
      "-89\n",
      "-90\n",
      "-91\n",
      "-92\n",
      "-93\n",
      "-94\n",
      "-95\n",
      "-96\n",
      "-97\n",
      "-98\n",
      "-99\n",
      "-100\n",
      "-101\n",
      "-102\n",
      "-103\n",
      "-104\n",
      "-105\n",
      "-106\n",
      "-107\n",
      "-108\n",
      "-109\n",
      "-110\n",
      "-111\n",
      "-112\n",
      "-113\n",
      "-114\n",
      "-115\n",
      "-116\n",
      "-117\n",
      "-118\n",
      "-119\n",
      "-120\n",
      "-121\n",
      "-122\n",
      "-123\n",
      "-124\n",
      "-125\n",
      "-126\n",
      "-127\n",
      "-128\n",
      "-129\n",
      "-130\n",
      "-131\n",
      "-132\n",
      "-133\n",
      "-134\n",
      "-135\n",
      "-136\n",
      "-137\n",
      "-138\n",
      "-139\n",
      "-140\n",
      "-141\n",
      "-142\n",
      "-143\n",
      "-144\n",
      "-145\n",
      "-146\n",
      "-147\n",
      "-148\n",
      "-149\n",
      "-150\n",
      "-151\n",
      "-152\n",
      "-153\n",
      "-154\n",
      "-155\n",
      "-156\n",
      "-157\n",
      "-158\n",
      "-159\n",
      "-160\n",
      "-161\n",
      "-162\n",
      "-163\n",
      "-164\n",
      "-165\n",
      "-166\n",
      "-167\n",
      "-168\n",
      "-169\n",
      "-170\n",
      "-171\n",
      "-172\n",
      "-173\n",
      "-174\n",
      "-175\n",
      "-176\n",
      "-177\n",
      "-178\n",
      "-179\n",
      "-180\n",
      "-181\n",
      "-182\n",
      "-183\n",
      "-184\n",
      "-185\n",
      "-186\n",
      "-187\n",
      "-188\n",
      "-189\n",
      "-190\n",
      "-191\n",
      "-192\n",
      "-193\n",
      "-194\n",
      "-195\n",
      "-196\n",
      "-197\n",
      "-198\n",
      "-199\n",
      "-200\n",
      "-201\n",
      "-202\n",
      "-203\n",
      "-204\n",
      "-205\n",
      "-206\n",
      "-207\n",
      "-208\n",
      "-209\n",
      "-210\n",
      "-211\n",
      "-212\n",
      "-213\n",
      "-214\n",
      "-215\n",
      "-216\n",
      "-217\n",
      "-218\n",
      "-219\n",
      "-220\n",
      "-221\n",
      "-222\n",
      "-223\n",
      "-224\n",
      "-225\n",
      "-226\n",
      "-227\n",
      "-228\n",
      "-229\n",
      "-230\n",
      "-231\n",
      "-232\n",
      "-233\n",
      "-234\n",
      "-235\n",
      "-236\n",
      "-237\n",
      "-238\n",
      "-239\n",
      "-240\n",
      "-241\n",
      "-242\n",
      "-243\n",
      "-244\n",
      "-245\n",
      "-246\n",
      "-247\n",
      "-248\n",
      "-249\n",
      "-250\n",
      "-251\n",
      "-252\n",
      "-253\n",
      "-254\n",
      "-255\n",
      "-256\n",
      "-257\n",
      "-258\n",
      "-259\n",
      "-260\n",
      "-261\n",
      "-262\n",
      "-263\n",
      "-264\n",
      "-265\n",
      "-266\n",
      "-267\n",
      "-268\n",
      "-269\n",
      "-270\n",
      "-271\n",
      "-272\n",
      "-273\n",
      "-274\n",
      "-275\n",
      "-276\n",
      "-277\n",
      "-278\n",
      "-279\n",
      "-280\n",
      "-281\n",
      "-282\n",
      "-283\n",
      "-284\n",
      "-285\n",
      "-286\n",
      "-287\n",
      "-288\n",
      "-289\n",
      "-290\n",
      "-291\n",
      "-292\n",
      "-293\n",
      "-294\n",
      "-295\n",
      "-296\n",
      "-297\n",
      "-298\n",
      "-299\n",
      "-300\n",
      "-301\n",
      "-302\n",
      "-303\n",
      "-304\n",
      "-305\n",
      "-306\n",
      "-307\n",
      "-308\n",
      "-309\n",
      "-310\n",
      "-311\n",
      "-312\n",
      "-313\n",
      "-314\n",
      "-315\n",
      "-316\n",
      "-317\n",
      "-318\n",
      "-319\n",
      "-320\n",
      "-321\n",
      "-322\n",
      "-323\n",
      "-324\n",
      "-325\n",
      "-326\n",
      "-327\n",
      "-328\n",
      "-329\n",
      "-330\n",
      "-331\n",
      "-332\n",
      "-333\n",
      "-334\n",
      "-335\n",
      "-336\n",
      "-337\n",
      "-338\n",
      "-339\n",
      "-340\n",
      "-341\n",
      "-342\n",
      "-343\n",
      "-344\n",
      "-345\n",
      "-346\n",
      "-347\n",
      "-348\n",
      "-349\n",
      "-350\n",
      "-351\n",
      "-352\n",
      "-353\n",
      "-354\n",
      "-355\n",
      "-356\n",
      "-357\n",
      "-358\n",
      "-359\n",
      "-360\n",
      "-361\n",
      "-362\n",
      "-363\n",
      "-364\n",
      "-365\n",
      "-366\n",
      "-367\n",
      "-368\n",
      "-369\n",
      "-370\n",
      "-371\n",
      "-372\n",
      "-373\n",
      "-374\n",
      "-375\n",
      "-376\n",
      "-377\n",
      "-378\n",
      "-379\n",
      "-380\n",
      "-381\n",
      "-382\n",
      "-383\n",
      "-384\n",
      "-385\n",
      "-386\n",
      "-387\n",
      "-388\n",
      "-389\n",
      "-390\n",
      "-391\n",
      "-392\n",
      "-393\n",
      "-394\n",
      "-395\n",
      "-396\n",
      "-397\n",
      "-398\n",
      "-399\n",
      "-400\n",
      "-401\n",
      "-402\n",
      "-403\n",
      "-404\n",
      "-405\n",
      "-406\n",
      "-407\n",
      "-408\n",
      "-409\n",
      "-410\n",
      "-411\n",
      "-412\n",
      "-413\n",
      "-414\n",
      "-415\n",
      "-416\n",
      "-417\n",
      "-418\n",
      "-419\n",
      "-420\n",
      "-421\n",
      "-422\n",
      "-423\n",
      "-424\n",
      "-425\n",
      "-426\n",
      "-427\n",
      "-428\n",
      "-429\n",
      "-430\n",
      "-431\n",
      "-432\n",
      "-433\n",
      "-434\n",
      "-435\n",
      "-436\n",
      "-437\n",
      "-438\n",
      "-439\n",
      "-440\n",
      "-441\n",
      "-442\n",
      "-443\n",
      "-444\n",
      "-445\n",
      "-446\n",
      "-447\n",
      "-448\n",
      "-449\n",
      "-450\n",
      "-451\n",
      "-452\n",
      "-453\n",
      "-454\n",
      "-455\n",
      "-456\n",
      "-457\n",
      "-458\n",
      "-459\n",
      "-460\n",
      "-461\n",
      "-462\n",
      "-463\n",
      "-464\n",
      "-465\n",
      "-466\n",
      "-467\n",
      "-468\n",
      "-469\n",
      "-470\n",
      "-471\n",
      "-472\n",
      "-473\n",
      "-474\n",
      "-475\n",
      "-476\n",
      "-477\n",
      "-478\n",
      "-479\n",
      "-480\n",
      "-481\n",
      "-482\n",
      "-483\n",
      "-484\n",
      "-485\n",
      "-486\n",
      "-487\n",
      "-488\n",
      "-489\n",
      "-490\n",
      "-491\n",
      "-492\n",
      "-493\n",
      "-494\n",
      "-495\n",
      "-496\n",
      "-497\n",
      "-498\n",
      "-499\n",
      "-500\n",
      "-501\n",
      "-502\n",
      "-503\n",
      "-504\n",
      "-505\n",
      "-506\n",
      "-507\n",
      "-508\n",
      "-509\n",
      "-510\n",
      "-511\n",
      "-512\n",
      "-513\n",
      "-514\n",
      "-515\n",
      "-516\n",
      "-517\n",
      "-518\n",
      "-519\n",
      "-520\n",
      "-521\n",
      "-522\n",
      "-523\n",
      "-524\n",
      "-525\n",
      "-526\n",
      "-527\n",
      "-528\n",
      "-529\n",
      "-530\n",
      "-531\n",
      "-532\n",
      "-533\n",
      "-534\n",
      "-535\n",
      "-536\n",
      "-537\n",
      "-538\n",
      "-539\n",
      "-540\n",
      "-541\n",
      "-542\n",
      "-543\n",
      "-544\n",
      "-545\n",
      "-546\n",
      "-547\n",
      "-548\n",
      "-549\n",
      "-550\n",
      "-551\n",
      "-552\n",
      "-553\n",
      "-554\n",
      "-555\n",
      "-556\n",
      "-557\n",
      "-558\n",
      "-559\n",
      "-560\n",
      "-561\n",
      "-562\n",
      "-563\n",
      "-564\n",
      "-565\n",
      "-566\n",
      "-567\n",
      "-568\n",
      "-569\n",
      "-570\n",
      "-571\n",
      "-572\n",
      "-573\n",
      "-574\n",
      "-575\n",
      "-576\n",
      "-577\n",
      "-578\n",
      "-579\n",
      "-580\n",
      "-581\n",
      "-582\n",
      "-583\n",
      "-584\n",
      "-585\n",
      "-586\n",
      "-587\n",
      "-588\n",
      "-589\n",
      "-590\n",
      "-591\n",
      "-592\n",
      "-593\n",
      "-594\n",
      "-595\n",
      "-596\n",
      "-597\n",
      "-598\n",
      "-599\n",
      "-600\n",
      "-601\n",
      "-602\n",
      "-603\n",
      "-604\n",
      "-605\n",
      "-606\n",
      "-607\n",
      "-608\n",
      "-609\n",
      "-610\n",
      "-611\n",
      "-612\n",
      "-613\n",
      "-614\n",
      "-615\n",
      "-616\n",
      "-617\n",
      "-618\n",
      "-619\n",
      "-620\n",
      "-621\n",
      "-622\n",
      "-623\n",
      "-624\n",
      "-625\n",
      "-626\n",
      "-627\n",
      "-628\n",
      "-629\n",
      "-630\n",
      "-631\n",
      "-632\n",
      "-633\n",
      "-634\n",
      "-635\n",
      "-636\n",
      "-637\n",
      "-638\n",
      "-639\n",
      "-640\n",
      "-641\n",
      "-642\n",
      "-643\n",
      "-644\n",
      "-645\n",
      "-646\n",
      "-647\n",
      "-648\n",
      "-649\n",
      "-650\n",
      "-651\n",
      "-652\n",
      "-653\n",
      "-654\n",
      "-655\n",
      "-656\n",
      "-657\n",
      "-658\n",
      "-659\n",
      "-660\n",
      "-661\n",
      "-662\n",
      "-663\n",
      "-664\n",
      "-665\n",
      "-666\n",
      "-667\n",
      "-668\n",
      "-669\n",
      "-670\n",
      "-671\n",
      "-672\n",
      "-673\n",
      "-674\n",
      "-675\n",
      "-676\n",
      "-677\n",
      "-678\n",
      "-679\n",
      "-680\n",
      "-681\n",
      "-682\n",
      "-683\n",
      "-684\n",
      "-685\n",
      "-686\n",
      "-687\n",
      "-688\n",
      "-689\n",
      "-690\n",
      "-691\n",
      "-692\n",
      "-693\n",
      "-694\n",
      "-695\n",
      "-696\n",
      "-697\n",
      "-698\n",
      "-699\n",
      "-700\n",
      "-701\n",
      "-702\n",
      "-703\n",
      "-704\n",
      "-705\n",
      "-706\n",
      "-707\n",
      "-708\n",
      "-709\n",
      "-710\n",
      "-711\n",
      "-712\n",
      "-713\n",
      "-714\n",
      "-715\n",
      "-716\n",
      "-717\n",
      "-718\n",
      "-719\n",
      "-720\n",
      "-721\n",
      "-722\n",
      "-723\n",
      "-724\n",
      "-725\n",
      "-726\n",
      "-727\n",
      "-728\n",
      "-729\n",
      "-730\n",
      "-731\n",
      "-732\n",
      "-733\n",
      "-734\n",
      "-735\n",
      "-736\n",
      "-737\n",
      "-738\n",
      "-739\n",
      "-740\n",
      "-741\n",
      "-742\n",
      "-743\n",
      "-744\n",
      "-745\n",
      "-746\n",
      "-747\n",
      "-748\n",
      "-749\n",
      "-750\n",
      "-751\n",
      "-752\n",
      "-753\n",
      "-754\n",
      "-755\n",
      "-756\n",
      "-757\n",
      "-758\n",
      "-759\n",
      "-760\n",
      "-761\n",
      "-762\n",
      "-763\n",
      "-764\n",
      "-765\n",
      "-766\n",
      "-767\n",
      "-768\n",
      "-769\n",
      "-770\n",
      "-771\n",
      "-772\n",
      "-773\n",
      "-774\n",
      "-775\n",
      "-776\n",
      "-777\n"
     ]
    }
   ],
   "source": [
    "\n",
    "def  show(n):\n",
    "  if (n==-778):\n",
    "    return\n",
    "  elif(n==4):\n",
    "    print(\"end\")\n",
    "  print(n)\n",
    "  show(n-1)\n",
    "show(8)"
   ]
  },
  {
   "cell_type": "code",
   "execution_count": 54,
   "metadata": {},
   "outputs": [
    {
     "data": {
      "text/plain": [
       "720"
      ]
     },
     "execution_count": 54,
     "metadata": {},
     "output_type": "execute_result"
    }
   ],
   "source": [
    "def fact(n):\n",
    "    if (n==0 or n ==1 ):\n",
    "        return 1\n",
    "    return fact(n-1)*n\n",
    "fact(6)"
   ]
  },
  {
   "cell_type": "code",
   "execution_count": 56,
   "metadata": {},
   "outputs": [
    {
     "name": "stdout",
     "output_type": "stream",
     "text": [
      "{'b': 1, 'a': 2, 'c': 3, 'd': 4, 's': 5, 'Name': 'syed Muhammad HamadAli'} <class 'dict'>\n"
     ]
    }
   ],
   "source": [
    "def xyz(**kargs):\n",
    "    print(kargs,type(kargs))\n",
    "    \n",
    "xyz(b=1,a=2,c=3,d=4,s=5, Name= \"syed Muhammad HamadAli\")"
   ]
  },
  {
   "cell_type": "code",
   "execution_count": 73,
   "metadata": {},
   "outputs": [
    {
     "name": "stdout",
     "output_type": "stream",
     "text": [
      "how to used \n",
      "True\n",
      "before \n"
     ]
    }
   ],
   "source": [
    "from typing import Callable\n",
    "\n",
    "def decorator(func: Callable[[int],None])->Callable[[int],None]:\n",
    "    def wrapper(num: int)->None:\n",
    "        print(\"how to used \")\n",
    "        func(num)\n",
    "        print(\"before \")\n",
    "    return wrapper\n",
    "@decorator\n",
    "def say_hello(num):\n",
    "    num = num%2 == 0\n",
    "    print (num)\n",
    "say_hello(98)    "
   ]
  },
  {
   "cell_type": "code",
   "execution_count": 89,
   "metadata": {},
   "outputs": [
    {
     "name": "stdout",
     "output_type": "stream",
     "text": [
      "make a folder in the system and run the command to make the ts config file \n",
      "\n",
      "<class 'str'>\n",
      "is \"tsc --init\" and check inthe code ts config file is made up\n",
      "\n",
      "is \"tsc --init\" and check inthe code ts config file is made up\n",
      "\n"
     ]
    }
   ],
   "source": [
    "f = open(\"data .txt\",\"rt\")\n",
    "data = f.readline()\n",
    "print(data)\n",
    "print(type(data))\n",
    "data1 = f.readline()\n",
    "print(data1)\n",
    "data2 = f.readline()\n",
    "print(data1)\n",
    "f.close()"
   ]
  },
  {
   "cell_type": "code",
   "execution_count": 90,
   "metadata": {},
   "outputs": [],
   "source": [
    "f=open(\"data1.txt\",\"a\")\n",
    "f.close()"
   ]
  },
  {
   "cell_type": "code",
   "execution_count": 103,
   "metadata": {},
   "outputs": [],
   "source": [
    "with open(\"data1.txt\",\"w\") as f:\n",
    "    f.write(\"How Are You Doing \")\n"
   ]
  },
  {
   "cell_type": "code",
   "execution_count": 109,
   "metadata": {},
   "outputs": [
    {
     "data": {
      "text/plain": [
       "79"
      ]
     },
     "execution_count": 109,
     "metadata": {},
     "output_type": "execute_result"
    }
   ],
   "source": [
    "f= open(\"practice.txt\",\"w\")\n",
    "f.write(\"Hi everone\\nWe are learning File i/o\\n using Python\\n I like programming in Python\")\n"
   ]
  },
  {
   "cell_type": "code",
   "execution_count": 121,
   "metadata": {},
   "outputs": [
    {
     "name": "stdout",
     "output_type": "stream",
     "text": [
      "not found\n"
     ]
    }
   ],
   "source": [
    "with open(\"practice.txt\",\"r\") as f:\n",
    "    data = f.read()\n",
    "    if data.find(\"ekdldk\") !=-1:\n",
    "        print(\"found\")\n",
    "    else:\n",
    "        print(\"not found\")"
   ]
  },
  {
   "cell_type": "code",
   "execution_count": 123,
   "metadata": {},
   "outputs": [
    {
     "name": "stdout",
     "output_type": "stream",
     "text": [
      "6\n",
      "5\n"
     ]
    }
   ],
   "source": [
    "a :int = 5\n",
    "def abc(num1:int)->None:\n",
    "    num1 +=1\n",
    "    print(num1)\n",
    "abc(a)\n",
    "print(a)"
   ]
  },
  {
   "cell_type": "code",
   "execution_count": 5,
   "metadata": {},
   "outputs": [
    {
     "name": "stdout",
     "output_type": "stream",
     "text": [
      "[1, 2, 3, 4, 5, 6, 7] 1474730175488\n",
      "1474730175488\n",
      "[1, 2, 3, 4, 5, 6, 7, 8, 9] 1474730175488\n",
      "[1, 2, 3, 4, 5, 6, 7, 8, 9]\n"
     ]
    }
   ],
   "source": [
    "abs: list[int]= [1,2,3,4,5,6,7]\n",
    "\n",
    "print(abs,id(abs))\n",
    "def abcd(num1:list)->None:\n",
    "    print(id(num1))\n",
    "    num1.append(8)\n",
    "    num1.append(9)\n",
    "    print(num1,id(num1))\n",
    "    \n",
    "abcd(abs)\n",
    "print(abs)"
   ]
  },
  {
   "cell_type": "code",
   "execution_count": 4,
   "metadata": {},
   "outputs": [
    {
     "name": "stdout",
     "output_type": "stream",
     "text": [
      "Error Not Divided By Zero 140730708097432\n"
     ]
    }
   ],
   "source": [
    "a : int = int(input(\"Please enter anyu value\\t\"))\n",
    "b : int = int(input(\"Please enter anyu value\\t\"))\n",
    "\n",
    "try: \n",
    "    \n",
    "    print(a/b)\n",
    "except (ZeroDivisionError):\n",
    "    print(\"Error Not Divided By Zero\" )\n",
    "   "
   ]
  },
  {
   "cell_type": "code",
   "execution_count": null,
   "metadata": {},
   "outputs": [],
   "source": [
    "a : int = int(input(\"Please enter anyu value\\t\"))\n",
    "b : int = int(input(\"Please enter anyu value\\t\"))\n",
    "\n",
    "try: \n",
    "    \n",
    "    print(a/b)\n",
    "except (ZeroDivisionError):\n",
    "    print(\"Error Not Divided By Zero\" )\n",
    "   "
   ]
  },
  {
   "cell_type": "code",
   "execution_count": 18,
   "metadata": {},
   "outputs": [
    {
     "name": "stdout",
     "output_type": "stream",
     "text": [
      "7012508.0\n"
     ]
    }
   ],
   "source": [
    "try:\n",
    "    userInput1  = float(input(\"Enter the first number \"))\n",
    "    userInput2  = float(input(\"Enter the second number \"))\n",
    "    userInput3  = int(input(\"Enter the any number which function you can perform \"))\n",
    "except(ValueError):\n",
    "    print(\" please only enter the number in integer from and foat from like 1 ,2 and1.2 1.2\")\n",
    "def AddNums(a,b):\n",
    "    result = a+ b\n",
    "    print(result)\n",
    "def Subtract(a,b):\n",
    "    result = a - b\n",
    "    print(result)\n",
    "def Multiply(a,b):\n",
    "    result = a * b\n",
    "    print(result)\n",
    "def Divide(a,b):\n",
    "    try:\n",
    "        result = a / b\n",
    "        print(result)\n",
    "    except(ZeroDivisionError):\n",
    "        print(\"cannot be divide into zero\")\n",
    "try:\n",
    "    if userInput3 == 1:\n",
    "        AddNums(userInput1,userInput2)\n",
    "    elif userInput3 == 2:\n",
    "        Subtract(userInput1,userInput2)\n",
    "    elif userInput3 == 3:\n",
    "        Multiply(userInput1,userInput2)\n",
    "    elif userInput3 == 4:\n",
    "        Divide(userInput1,userInput2)\n",
    "    else:\n",
    "        print(\"Please enter The specific number beetweeen 1 to 4 to perform a specific Function like '+','-','*','/'\")\n",
    "except(ValueError):\n",
    "    print(\"invalid literal for int() with base 10: 'sks'\")\n"
   ]
  },
  {
   "cell_type": "code",
   "execution_count": 21,
   "metadata": {},
   "outputs": [
    {
     "name": "stdout",
     "output_type": "stream",
     "text": [
      "Welcome to the Simple Calculator\n",
      "The result is: Error: Division by zero is not allowed.\n"
     ]
    }
   ],
   "source": [
    "def get_number_input(prompt):\n",
    "    while True:\n",
    "        try:\n",
    "            return float(input(prompt))\n",
    "        except ValueError:\n",
    "            print(\"Invalid input. Please enter a valid number.\")\n",
    "\n",
    "def get_operation_input():\n",
    "    while True:\n",
    "        try:\n",
    "            choice = int(input(\"Enter the number corresponding to the operation:\\n\"\n",
    "                               \"1: + (Addition)\\n\"\n",
    "                               \"2: - (Subtraction)\\n\"\n",
    "                               \"3: * (Multiplication)\\n\"\n",
    "                               \"4: / (Division)\\n\"\n",
    "                               \"Your choice: \"))\n",
    "            if choice in [1, 2, 3, 4]:\n",
    "                return choice\n",
    "            else:\n",
    "                print(\"Please enter a number between 1 and 4.\")\n",
    "        except ValueError:\n",
    "            print(\"Invalid input. Please enter an integer.\")\n",
    "\n",
    "# Define the operation functions\n",
    "def add(a, b):\n",
    "    return a + b\n",
    "\n",
    "def subtract(a, b):\n",
    "    return a - b\n",
    "\n",
    "def multiply(a, b):\n",
    "    return a * b\n",
    "\n",
    "def divide(a, b):\n",
    "    try:\n",
    "        return a / b\n",
    "    except ZeroDivisionError:\n",
    "        return \"Error: Division by zero is not allowed.\"\n",
    "\n",
    "# Main program\n",
    "def main():\n",
    "    print(\"Welcome to the Simple Calculator\")\n",
    "\n",
    "    # Get user inputs\n",
    "    num1 = get_number_input(\"Please enter the first number: \")\n",
    "    num2 = get_number_input(\"Please enter the second number: \")\n",
    "\n",
    "    operation = get_operation_input()\n",
    "\n",
    "    # Perform the chosen operation\n",
    "    if operation == 1:\n",
    "        result = add(num1, num2)\n",
    "    elif operation == 2:\n",
    "        result = subtract(num1, num2)\n",
    "    elif operation == 3:\n",
    "        result = multiply(num1, num2)\n",
    "    elif operation == 4:\n",
    "        result = divide(num1, num2)\n",
    "\n",
    "    # Display the result\n",
    "    print(f\"The result is: {result}\")\n",
    "\n",
    "# Run the program\n",
    "if __name__ == \"__main__\":\n",
    "    main()\n"
   ]
  },
  {
   "cell_type": "code",
   "execution_count": 3,
   "metadata": {},
   "outputs": [
    {
     "name": "stdout",
     "output_type": "stream",
     "text": [
      "welcome to the calculator\n",
      "The result is : 0.03403937469988796\n"
     ]
    }
   ],
   "source": [
    "def getInputNumber(Prompt):\n",
    "    while   True:\n",
    "        try:\n",
    "            return float(input(Prompt))\n",
    "        except(ValueError):\n",
    "            print(\"Please enter a Valid Number\")\n",
    "def operationInput():\n",
    "    while True:\n",
    "        try:\n",
    "            choice = int(input(\"Please enter a specifiq number to perform a functio\\n\"\n",
    "                               \"1: add\\n\"\n",
    "                               \"2: Subtract\\n\"\n",
    "                               \"3:Multiply\\n\"\n",
    "                               \"4:Divide\"))\n",
    "            if choice in [1,2,3,4]:\n",
    "                return choice\n",
    "            else:\n",
    "                print(\"Please enter the Number Between 1 to 4\")\n",
    "        except(ValueError):\n",
    "            print(\"Please enter a Valid Number\")\n",
    "    \n",
    "def Add(a,b):\n",
    "    return a+b\n",
    "def Subtract(a,b):\n",
    "    return a-b\n",
    "def Multiply(a,b):\n",
    "    return a*b\n",
    "def Divide(a,b):\n",
    "    try:\n",
    "        return a/b\n",
    "    except(ZeroDivisionError):\n",
    "        print(\"Zero Division : do not divide by zero\")\n",
    "def main():\n",
    "    print(\"welcome to the calculator\")\n",
    "    UserInt1 = getInputNumber(\"please enter number\")\n",
    "    UserInt2 = getInputNumber(\"please enter number\")\n",
    "    opertion = operationInput()\n",
    "    if opertion == 1:\n",
    "        results = Add(UserInt1,UserInt2)\n",
    "    elif opertion == 2:\n",
    "        results =  Subtract(UserInt1,UserInt2)\n",
    "    elif opertion == 3:\n",
    "        results =  Multiply(UserInt1,UserInt2)\n",
    "    elif opertion == 4:\n",
    "        results =  Divide(UserInt1,UserInt2)\n",
    "    print(f\"The result is : {results}\")\n",
    "    \n",
    "main()"
   ]
  },
  {
   "cell_type": "code",
   "execution_count": 11,
   "metadata": {},
   "outputs": [
    {
     "name": "stdout",
     "output_type": "stream",
     "text": [
      "your percentage is 81.52112676056338\n"
     ]
    }
   ],
   "source": [
    "def number_percentage(prompts):\n",
    "    while True:\n",
    "        try:\n",
    "            return int(input(prompts))\n",
    "        except Exception as e:\n",
    "            print(f\"Something went wrong : as {e}\")\n",
    "def main():\n",
    "    number1 = number_percentage(\"please enter any number\")\n",
    "    try:\n",
    "        results = number1 /3550\n",
    "        finalResults  = results *100\n",
    "        print(f\"your percentage is {finalResults}\")\n",
    "    except Exception as r: \n",
    "        print(\"something gone wrong {r}\")\n",
    "main()"
   ]
  },
  {
   "cell_type": "code",
   "execution_count": 10,
   "metadata": {},
   "outputs": [
    {
     "name": "stdout",
     "output_type": "stream",
     "text": [
      "Current value is 2.\n",
      "Current value is 3.\n",
      "Current value is 4.\n",
      "Current value is 5.\n"
     ]
    },
    {
     "data": {
      "text/plain": [
       "True"
      ]
     },
     "execution_count": 10,
     "metadata": {},
     "output_type": "execute_result"
    }
   ],
   "source": [
    "def is_prime(x):\n",
    "    if x < 2:\n",
    "        return False\n",
    "    if x == 2:\n",
    "        return True\n",
    "    if x == 3:\n",
    "        return True\n",
    "    else:\n",
    "        for n in range(2,x-1):\n",
    "            print (\"Current value is %d.\" %n)\n",
    "            if x % n == 0:\n",
    "                return False\n",
    "        return True\n",
    "is_prime(7)"
   ]
  },
  {
   "cell_type": "markdown",
   "metadata": {},
   "source": [
    "\n",
    "Code\n",
    "Testcase\n",
    "Test Result\n",
    "Test Result\n",
    "1. Two Sum\n",
    "Solved\n",
    "Easy\n",
    "Topics\n",
    "Companies\n",
    "Hint\n",
    "Given an array of integers nums and an integer target, return indices of the two numbers such that they add up to target.\n",
    "\n",
    "You may assume that each input would have exactly one solution, and you may not use the same element twice.\n",
    "\n",
    "You can return the answer in any order.\n",
    "\n",
    " \n",
    "\n",
    "Example 1:\n",
    "\n",
    "Input: nums = [2,7,11,15], target = 9\n",
    "Output: [0,1]\n",
    "Explanation: Because nums[0] + nums[1] == 9, we return [0, 1].\n",
    "Example 2:\n",
    "\n",
    "Input: nums = [3,2,4], target = 6\n",
    "Output: [1,2]\n",
    "Example 3:\n",
    "\n",
    "Input: nums = [3,3], target = 6\n",
    "Output: [0,1]"
   ]
  },
  {
   "cell_type": "code",
   "execution_count": 47,
   "metadata": {},
   "outputs": [
    {
     "data": {
      "text/plain": [
       "[0, 2, 3]"
      ]
     },
     "execution_count": 47,
     "metadata": {},
     "output_type": "execute_result"
    }
   ],
   "source": [
    "input1:list[int] = [2,7,11,15]\n",
    "target1 = 9\n",
    "input2:list[int] = [3,1,4,6,8]\n",
    "target2 = 18\n",
    "input3:list[int] = [1,2,3,4]\n",
    "target3 = 8\n",
    "def returnIndices(num,target):\n",
    "    for i in range(len(num)):\n",
    "        for j in range(i+1,len(num)):\n",
    "            for z in range(i+2,len(num)):\n",
    "                \n",
    "                if num[i]+num[j]+ num[z] == target:\n",
    "                    return[i,j,z]\n",
    "# returnIndices(input1,target1)\n",
    "returnIndices(input3,target3)\n",
    "# returnIndices(input3,target3)\n",
    "                        \n",
    "    \n",
    "    \n"
   ]
  },
  {
   "cell_type": "code",
   "execution_count": 29,
   "metadata": {},
   "outputs": [
    {
     "name": "stdout",
     "output_type": "stream",
     "text": [
      "[1, 2]\n"
     ]
    }
   ],
   "source": [
    "# from typing import List\n",
    "\n",
    "# def twoSum(nums: List[int], target: int) -> List[int]:\n",
    "#     for i in range(len(nums)):\n",
    "#         for j in range(i + 1, len(nums)):\n",
    "#             if nums[i] + nums[j] == target:\n",
    "#                 return [i, j]\n",
    "#     return []\n",
    "\n",
    "# # Test cases\n",
    "# # print(twoSum([2, 7, 11, 15], 9))   # Output: [0, 1]\n",
    "# print(twoSum([3, 2, 4], 6))        # Output: []\n"
   ]
  },
  {
   "cell_type": "code",
   "execution_count": 30,
   "metadata": {},
   "outputs": [
    {
     "data": {
      "text/plain": [
       "[1, 2]"
      ]
     },
     "execution_count": 30,
     "metadata": {},
     "output_type": "execute_result"
    }
   ],
   "source": [
    "# def twoSum( nums: List[int], target: int) -> List[int]:\n",
    "#     for i in range(len(nums)):\n",
    "#         for j in range(i+1,len(nums)):\n",
    "#             if nums[i]+nums[j] == target:\n",
    "#                 return[i,j]\n",
    "#     return[]\n",
    "# twoSum([2,7,11,15],9)\n",
    "# twoSum([3,2,4],6)\n",
    "        "
   ]
  },
  {
   "cell_type": "code",
   "execution_count": null,
   "metadata": {},
   "outputs": [],
   "source": [
    "# def sumNUmber(num:List[int],target:int)->List[int]:\n",
    "#     num_map = {}\n",
    "#     n = len(num)\n",
    "#     for i in range(n):\n",
    "#         num_map [num[i]]= i\n",
    "        "
   ]
  },
  {
   "cell_type": "code",
   "execution_count": 14,
   "metadata": {},
   "outputs": [
    {
     "data": {
      "text/plain": [
       "[0, 1]"
      ]
     },
     "execution_count": 14,
     "metadata": {},
     "output_type": "execute_result"
    }
   ],
   "source": [
    "# def returnSum(nums,Targets):\n",
    "#     for i in range(len(nums)):\n",
    "#         for j in range(i+1,len(nums)):\n",
    "#             if nums[i]+nums[j] == Targets:\n",
    "#                 return [i,j]\n",
    "# returnSum(input1,target1)\n",
    "# returnSum(input2,target2)\n",
    "# returnSum(input3,target3)\n",
    "\n"
   ]
  },
  {
   "cell_type": "code",
   "execution_count": 38,
   "metadata": {},
   "outputs": [
    {
     "name": "stdout",
     "output_type": "stream",
     "text": [
      "[0, 1]\n",
      "[1, 2]\n",
      "[0, 1]\n"
     ]
    }
   ],
   "source": [
    "# def twoSum(nums, target):\n",
    "#     # Ek dictionary banate hain jisme hum pehle se dekhe hue numbers ko store karenge\n",
    "#     num_dict = {}\n",
    "\n",
    "#     # Har number ko loop ke through dekhte hain\n",
    "#     for i, num in enumerate(nums):\n",
    "#         # Difference nikalte hain jo target ko paane ke liye chahiye\n",
    "#         diff = target - num\n",
    "\n",
    "#         # Agar difference already dictionary mein hai, to iska matlab humein solution mil gaya\n",
    "#         if diff in num_dict:\n",
    "#             return [num_dict[diff], i]\n",
    "        \n",
    "#         # Agar difference nahi mila, to current number ko dictionary mein daal do\n",
    "#         num_dict[num] = i\n",
    "\n",
    "#     # Agar koi solution nahi mila (although problem guarantee karti hai ki solution hoga)\n",
    "#     return []\n",
    "\n",
    "# # Example usage:\n",
    "# print(twoSum([2, 7, 11, 15], 9))  # Output: [0, 1]\n",
    "# print(twoSum([3, 2, 4], 6))       # Output: [1, 2]\n",
    "# print(twoSum([3, 3], 6))          # Output: [0, 1]\n"
   ]
  },
  {
   "cell_type": "code",
   "execution_count": 40,
   "metadata": {},
   "outputs": [
    {
     "name": "stdout",
     "output_type": "stream",
     "text": [
      "[0, 1]\n",
      "[1, 2]\n",
      "[0, 1]\n"
     ]
    }
   ],
   "source": [
    "from typing import List\n",
    "def sum(nums:List[int],t:int)->List[int]:\n",
    "    my_dict = {}\n",
    "    \n",
    "    for i, num in enumerate(nums):\n",
    "       \n",
    "        diff = t - num\n",
    "        if diff in my_dict:\n",
    "            return [my_dict[diff],i]\n",
    "        my_dict[num] = i\n",
    "    return []\n",
    "print(sum([2, 7, 11, 15], 9))\n",
    "print(sum([3, 2, 4], 6))  \n",
    "print(sum([3, 3], 6)) \n",
    "print(sum([3, 3,4,5,67,7], 640))\n"
   ]
  },
  {
   "cell_type": "code",
   "execution_count": 37,
   "metadata": {},
   "outputs": [
    {
     "name": "stdout",
     "output_type": "stream",
     "text": [
      "4 1\n",
      "3 2\n",
      "4 1\n",
      "2 3\n",
      "3 2\n",
      "4 1\n",
      "1 4\n",
      "2 3\n",
      "3 2\n",
      "4 1\n"
     ]
    }
   ],
   "source": [
    "# nums:List[int] = [1,2,3,4,5]\n",
    "# target = 7\n",
    "# numsMap:dict = {}\n",
    "# n = len(nums)\n",
    "# for i in range(n):\n",
    "#     numsMap[nums[i]]= i\n",
    "#     for i in range(n):\n",
    "#         complementry = target - nums[i]\n",
    "#         # print(complementry)\n",
    "#         if complementry in numsMap and numsMap[complementry] !=i:\n",
    "#             print(i,numsMap[complementry])\n",
    "        \n",
    " "
   ]
  },
  {
   "cell_type": "code",
   "execution_count": 80,
   "metadata": {},
   "outputs": [
    {
     "name": "stdout",
     "output_type": "stream",
     "text": [
      "yes  found index : 3 and Pine Apple\n"
     ]
    }
   ],
   "source": [
    "fruit_list = [\"Apple\",\"bnana\",\"cherry\",\"Pine Apple\",\"Strawbery\"]\n",
    "diff = \"Pine Apple\"\n",
    "found = False\n",
    "for i , item in enumerate(fruit_list):\n",
    "    if diff == item:\n",
    "        print(f\"yes  found index : {i} and {item}\")\n",
    "        found = True\n",
    "        break\n",
    "if not found:\n",
    "    print(\"not Match\")\n",
    "        \n",
    "   "
   ]
  },
  {
   "cell_type": "code",
   "execution_count": 66,
   "metadata": {},
   "outputs": [
    {
     "name": "stdout",
     "output_type": "stream",
     "text": [
      "Yes, found index: 1 and item: bnana\n"
     ]
    }
   ],
   "source": [
    "fruit_list = [\"Apple\", \"bnana\", \"cherry\", \"PineApple\", \"Strawbery\"]\n",
    "diff = \"bnana\"\n",
    "\n",
    "# Flag to check if a match is found\n",
    "found = False\n",
    "\n",
    "for i, item in enumerate(fruit_list):\n",
    "    if diff == item:\n",
    "        print(f\"Yes, found index: {i} and item: {item}\")\n",
    "        found = True\n",
    "        break\n",
    "\n",
    "# Print \"Not Match\" only if no match was found\n",
    "if not found:\n",
    "    print(\"Not Match\")\n"
   ]
  },
  {
   "cell_type": "code",
   "execution_count": 101,
   "metadata": {},
   "outputs": [
    {
     "name": "stdout",
     "output_type": "stream",
     "text": [
      "ID NO 1 And Teacher Sir Hamad Ali ShahIs teaching Generative Ai.....\n",
      "sir Sir Muhammad Ali Shah is speaking Speech At MY own Topic Like: Allama Iqbal\n"
     ]
    }
   ],
   "source": [
    "class Teacher():\n",
    "    def __init__(this,teacher_id:int,teacher_name:str) -> None:\n",
    "        this.teacher_name : str = teacher_name\n",
    "        this.teacher_id :int = teacher_id\n",
    "        this.Organization :str = \"PIAIC\"\n",
    "    def teching(self,subject)->None:\n",
    "        print(f\"ID NO {self.teacher_id} And Teacher {self.teacher_name}Is teaching {subject}.....\")\n",
    "        \n",
    "    def speaking(self,speaks:str)->None:\n",
    "        print(f\"sir {self.teacher_name} is speaking {speaks}\")        \n",
    "        \n",
    "        \n",
    "obj1: Teacher = Teacher(1,\"Sir Hamad Ali Shah\")\n",
    "obj2: Teacher = Teacher(2,\"Sir Muhammad Ali Shah\")\n",
    "obj1.teching(\"Generative Ai\")\n",
    "obj2.speaking(\"Speech At MY own Topic Like: Allama Iqbal\")"
   ]
  },
  {
   "cell_type": "code",
   "execution_count": 100,
   "metadata": {},
   "outputs": [
    {
     "name": "stdout",
     "output_type": "stream",
     "text": [
      "[0, 1]\n",
      "[3, 4]\n"
     ]
    }
   ],
   "source": [
    "class Main():\n",
    "    def __init__(self,nums:List[int],target:int) ->None:\n",
    "        self.nums:List[int] = nums\n",
    "        self.target :int = target\n",
    "    def addTwoSum(self,nums:List[int],target:int)->List[int]:\n",
    "            \n",
    "        my_dict : dict = {}\n",
    "        for i, num in enumerate(nums):\n",
    "            diff = target - num\n",
    "            if diff in my_dict:\n",
    "                return[my_dict[diff],i]\n",
    "            my_dict[num] = i\n",
    "        return[]\n",
    "    \n",
    "    \n",
    "main_obj = Main([2, 7, 11, 15], 9)\n",
    "main_obj2 = Main([1,4,5,78,9],87)\n",
    "print(main_obj.addTwoSum(main_obj.nums, main_obj.target))\n",
    "print(main_obj2.addTwoSum(main_obj2.nums, main_obj2.target))\n"
   ]
  },
  {
   "cell_type": "code",
   "execution_count": 96,
   "metadata": {},
   "outputs": [
    {
     "name": "stdout",
     "output_type": "stream",
     "text": [
      "[0, 1]\n",
      "[1, 2]\n"
     ]
    }
   ],
   "source": [
    "from typing import List\n",
    "\n",
    "class Main:\n",
    "    def __init__(self, nums: List[int], target: int) -> None:\n",
    "        self.nums: List[int] = nums\n",
    "        self.target: int = target\n",
    "\n",
    "    def addTwoSum(self, nums: List[int], target: int) -> List[int]:\n",
    "        my_dict: dict = {}\n",
    "        for i, num in enumerate(nums):\n",
    "            diff = target - num\n",
    "            if diff in my_dict:\n",
    "                return [my_dict[diff], i]\n",
    "            # Store the number as the key and its index as the value\n",
    "            my_dict[num] = i\n",
    "        return []\n",
    "\n",
    "# Example usage\n",
    "main_obj = Main([2, 7, 11, 15], 9)\n",
    "print(main_obj.addTwoSum(main_obj.nums, main_obj.target))  # Output: [0, 1]\n",
    "\n",
    "main_obj = Main([3, 2, 4], 6)\n",
    "print(main_obj.addTwoSum(main_obj.nums, main_obj.target))  # Output: [1, 2]\n"
   ]
  },
  {
   "cell_type": "code",
   "execution_count": 88,
   "metadata": {},
   "outputs": [
    {
     "name": "stdout",
     "output_type": "stream",
     "text": [
      "ID NO 1 and Teacher Sir Hamad Ali Shah is teaching Generative AI.....\n",
      "Sir Sir Muhammad Ali Shah is speaking on Speech at My Own Topic: Allama Iqbal\n"
     ]
    }
   ],
   "source": [
    "class Teacher:\n",
    "    def __init__(self, teacher_id: int, teacher_name: str) -> None:\n",
    "        self.teacher_name: str = teacher_name\n",
    "        self.teacher_id: int = teacher_id\n",
    "        self.Organization: str = \"PIAIC\"\n",
    "    \n",
    "    def teaching(self, subject: str) -> None:\n",
    "        print(f\"ID NO {self.teacher_id} and Teacher {self.teacher_name} is teaching {subject}.....\")\n",
    "        \n",
    "    def speaking(self, speaks: str) -> None:\n",
    "        print(f\"Sir {self.teacher_name} is speaking on {speaks}\")\n",
    "\n",
    "# Creating objects of the Teacher class\n",
    "obj1: Teacher = Teacher(1, \"Sir Hamad Ali Shah\")\n",
    "obj2: Teacher = Teacher(2, \"Sir Muhammad Ali Shah\")\n",
    "\n",
    "# Invoking methods\n",
    "obj1.teaching(\"Generative AI\")\n",
    "obj2.speaking(\"Speech at My Own Topic: Allama Iqbal\")\n"
   ]
  },
  {
   "cell_type": "code",
   "execution_count": 102,
   "metadata": {},
   "outputs": [
    {
     "name": "stdout",
     "output_type": "stream",
     "text": [
      "Output for l1 = [2, 4, 3] and l2 = [5, 6, 4]:\n",
      "7 -> 0 -> 8\n",
      "Output for l1 = [9, 9, 9, 9, 9, 9, 9] and l2 = [9, 9, 9, 9]:\n",
      "8 -> 9 -> 9 -> 9 -> 0 -> 0 -> 0 -> 1\n"
     ]
    }
   ],
   "source": [
    "# Definition for singly-linked list.\n",
    "class ListNode:\n",
    "    def __init__(self, val=0, next=None):\n",
    "        self.val = val\n",
    "        self.next = next\n",
    "\n",
    "class Solution:\n",
    "    def addTwoNumbers(self, l1: ListNode, l2: ListNode) -> ListNode:\n",
    "        dummy = ListNode()  # Create a dummy node to simplify handling the result list\n",
    "        current = dummy     # Pointer to build the new linked list\n",
    "        carry = 0           # Variable to hold the carry during the addition\n",
    "        \n",
    "        # Traverse both linked lists until both are exhausted and no carry remains\n",
    "        while l1 or l2 or carry:\n",
    "            # Extract values from l1 and l2, or use 0 if one list is shorter\n",
    "            val1 = l1.val if l1 else 0\n",
    "            val2 = l2.val if l2 else 0\n",
    "            \n",
    "            # Calculate sum of values and carry\n",
    "            total = val1 + val2 + carry\n",
    "            carry = total // 10   # Update carry (integer division)\n",
    "            current_digit = total % 10  # Get the last digit to put in the new list\n",
    "            \n",
    "            # Add the digit as a new node to the result list\n",
    "            current.next = ListNode(current_digit)\n",
    "            current = current.next\n",
    "            \n",
    "            # Move to the next nodes in l1 and l2\n",
    "            if l1:\n",
    "                l1 = l1.next\n",
    "            if l2:\n",
    "                l2 = l2.next\n",
    "        \n",
    "        return dummy.next  # Return the result linked list, starting from dummy.next\n",
    "\n",
    "# Helper function to convert list to linked list\n",
    "def list_to_linkedlist(lst):\n",
    "    dummy = ListNode()\n",
    "    current = dummy\n",
    "    for val in lst:\n",
    "        current.next = ListNode(val)\n",
    "        current = current.next\n",
    "    return dummy.next\n",
    "\n",
    "# Helper function to print linked list\n",
    "def print_linkedlist(node):\n",
    "    while node:\n",
    "        print(node.val, end=\" -> \" if node.next else \"\")\n",
    "        node = node.next\n",
    "    print()\n",
    "\n",
    "# Test cases\n",
    "l1 = list_to_linkedlist([2, 4, 3])\n",
    "l2 = list_to_linkedlist([5, 6, 4])\n",
    "sol = Solution()\n",
    "result = sol.addTwoNumbers(l1, l2)\n",
    "print(\"Output for l1 = [2, 4, 3] and l2 = [5, 6, 4]:\")\n",
    "print_linkedlist(result)\n",
    "\n",
    "l1 = list_to_linkedlist([9, 9, 9, 9, 9, 9, 9])\n",
    "l2 = list_to_linkedlist([9, 9, 9, 9])\n",
    "result = sol.addTwoNumbers(l1, l2)\n",
    "print(\"Output for l1 = [9, 9, 9, 9, 9, 9, 9] and l2 = [9, 9, 9, 9]:\")\n",
    "print_linkedlist(result)\n"
   ]
  },
  {
   "cell_type": "code",
   "execution_count": 108,
   "metadata": {},
   "outputs": [
    {
     "name": "stdout",
     "output_type": "stream",
     "text": [
      "syed Muhammad Hamad teches the Generative AI\n",
      "Blue\n",
      "White\n",
      " syed Muhammad Hamadspeech on the topic Generative ai\n"
     ]
    },
    {
     "data": {
      "text/plain": [
       "'Generative ai'"
      ]
     },
     "execution_count": 108,
     "metadata": {},
     "output_type": "execute_result"
    }
   ],
   "source": [
    "class Parent():\n",
    "    def __init__(self,name: str) -> None:\n",
    "        self.name:str = name\n",
    "        self.eyeColor: str = \"Blue\"\n",
    "        self.faceColor:str = \"White\"\n",
    "        \n",
    "    def speech(self,speak:str)->str:\n",
    "        self.speak :str = speak\n",
    "        print(f\" {self.name}speech on the topic {self.speak}\")\n",
    "        return speak\n",
    "class Child(Parent):\n",
    "    def __init__(self, name: str) -> None:\n",
    "        super().__init__(name)\n",
    "    def teaching(self,teacher:str)->None:\n",
    "        self.teacher :str = teacher\n",
    "        print(f\"{self.name} teches the {self.teacher}\")\n",
    "    \n",
    "\n",
    "obje:Child  = Child(\"syed Muhammad Hamad\")\n",
    "obje.teaching(\"Generative AI\") \n",
    "print(obje.eyeColor)\n",
    "print(obje.faceColor)\n",
    "obje.speech(\"Generative ai\")\n",
    "        "
   ]
  },
  {
   "cell_type": "code",
   "execution_count": null,
   "metadata": {},
   "outputs": [],
   "source": [
    "  "
   ]
  }
 ],
 "metadata": {
  "kernelspec": {
   "display_name": "python12",
   "language": "python",
   "name": "python3"
  },
  "language_info": {
   "codemirror_mode": {
    "name": "ipython",
    "version": 3
   },
   "file_extension": ".py",
   "mimetype": "text/x-python",
   "name": "python",
   "nbconvert_exporter": "python",
   "pygments_lexer": "ipython3",
   "version": "3.12.0"
  }
 },
 "nbformat": 4,
 "nbformat_minor": 2
}
