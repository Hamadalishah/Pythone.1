{
 "cells": [
  {
   "cell_type": "code",
   "execution_count": 1,
   "metadata": {},
   "outputs": [
    {
     "name": "stdout",
     "output_type": "stream",
     "text": [
      "hello Python\n"
     ]
    }
   ],
   "source": [
    "print(\"hello Python\")"
   ]
  },
  {
   "cell_type": "code",
   "execution_count": 12,
   "metadata": {},
   "outputs": [
    {
     "name": "stdout",
     "output_type": "stream",
     "text": [
      "He speach on The world woman Day inthe auditorium\n",
      "child Name Syed Muhammad Hamad Ali Shah And the Mother Name Syeda Sajida GhillaniFather Name Ali Asghar Shah \n"
     ]
    }
   ],
   "source": [
    "class Mother:\n",
    "    def __init__(self,name:str) -> None:\n",
    "        self.name:str = name\n",
    "        self.eye_color: str = \"Blue\"\n",
    "class Father:\n",
    "    def __init__(self,name:str) -> None:\n",
    "        self.father_name :str = name\n",
    "    def speaks(self,speaking:str)->str:\n",
    "        \n",
    "        return (f\"He speach on {speaking} inthe auditorium\")\n",
    "class Child(Mother,Father):\n",
    "    def __init__(self,mother_name: str,father_name :str,child_name : str) -> None:\n",
    "        Mother.__init__(self,mother_name) \n",
    "        Father.__init__(self,father_name)\n",
    "        self.child_name :str = child_name\n",
    "        \n",
    "        \n",
    "    def __str__(self) -> str:\n",
    "        return( f\"child Name {self.child_name} And the Mother Name {self.name}\"\n",
    "       f\"Father Name {self.father_name} \")\n",
    "hamad :Child = Child(\"Syeda Sajida Ghillani\",\"Ali Asghar Shah\",\"Syed Muhammad Hamad Ali Shah\")\n",
    "print(hamad.speaks(\"The world woman Day\"))\n",
    "print(hamad)"
   ]
  },
  {
   "cell_type": "code",
   "execution_count": 15,
   "metadata": {},
   "outputs": [
    {
     "name": "stdout",
     "output_type": "stream",
     "text": [
      "My name is Hamad and age 24\n"
     ]
    }
   ],
   "source": [
    "class Self:\n",
    "    def __init__(self,Name :str , age :int) -> None:\n",
    "        self.Name :str = Name \n",
    "        self.age :int = age\n",
    "\n",
    "    def __str__(self) -> str:\n",
    "        return (f\"My name is {self.Name} and age {self.age}\")\n",
    "        \n",
    "        \n",
    "        \n",
    "New :Self = Self(\"Hamad\",24)\n",
    "print(New)"
   ]
  },
  {
   "cell_type": "code",
   "execution_count": 9,
   "metadata": {},
   "outputs": [
    {
     "name": "stdout",
     "output_type": "stream",
     "text": [
      "Child Name: Syed Muhammad Hamad Ali Shah, Mother's Name: Syeda Sajida Ghillani, Father's Name: Ali Asghar Shah\n"
     ]
    }
   ],
   "source": [
    "class Mother:\n",
    "    def __init__(self, name: str) -> None:\n",
    "        self.mother_name: str = name\n",
    "        self.eye_color: str = \"Blue\"\n",
    "\n",
    "class Father:\n",
    "    def __init__(self, name: str) -> None:\n",
    "        self.father_name: str = name\n",
    "\n",
    "    def speaks(self, speaking: str) -> str:\n",
    "        return f\"He gave a speech on {speaking} in the auditorium.\"\n",
    "\n",
    "class Child(Mother, Father):\n",
    "    def __init__(self, mother_name: str, father_name: str, child_name: str) -> None:\n",
    "        # Initialize both the Mother and Father class\n",
    "        Mother.__init__(self, mother_name)\n",
    "        Father.__init__(self, father_name)\n",
    "        self.child_name: str = child_name\n",
    "\n",
    "    def __str__(self) -> str:\n",
    "        return (f\"Child Name: {self.child_name}, Mother's Name: {self.mother_name}, \"\n",
    "                f\"Father's Name: {self.father_name}\")\n",
    "\n",
    "# Create an instance of the Child class\n",
    "hamad = Child(\"Syeda Sajida Ghillani\", \"Ali Asghar Shah\", \"Syed Muhammad Hamad Ali Shah\")\n",
    "\n",
    "# Print the representation of the Child object\n",
    "print(hamad)\n",
    "\n"
   ]
  },
  {
   "cell_type": "code",
   "execution_count": 17,
   "metadata": {},
   "outputs": [
    {
     "name": "stdout",
     "output_type": "stream",
     "text": [
      "Invalid arguments\n",
      "3\n",
      "4.6\n",
      "hello world\n",
      "None\n"
     ]
    }
   ],
   "source": [
    "from typing import Union,overload\n",
    "@overload\n",
    "def add (x:int,y:int)->int:\n",
    "    ...\n",
    "@overload\n",
    "def add (x:float,y:float)->float:\n",
    "    ...\n",
    "@overload\n",
    "def add (x:str,y:str)->str:\n",
    "    ...\n",
    "def add(x:Union[int,float,str],y:Union[int,float,str])->Union[int,float,str]:\n",
    "    if isinstance(x,int) and isinstance(y,int):\n",
    "        return x+y\n",
    "    elif isinstance(x,float) and isinstance(y,float):\n",
    "        return x+y\n",
    "    elif isinstance(x,str) and isinstance(y,str):\n",
    "        return x+y\n",
    "    else:\n",
    "        print(\"Invalid arguments\")\n",
    "result  = add(1,2)\n",
    "result1 = add(1.2,3.4)\n",
    "result2 = add(\"hello \",\"world\")\n",
    "result3 = add([1,23,4,45],[7])\n",
    "print(f\"{result}\\n{result1}\\n{result2}\\n{result3}\")"
   ]
  }
 ],
 "metadata": {
  "kernelspec": {
   "display_name": "python12",
   "language": "python",
   "name": "python3"
  },
  "language_info": {
   "codemirror_mode": {
    "name": "ipython",
    "version": 3
   },
   "file_extension": ".py",
   "mimetype": "text/x-python",
   "name": "python",
   "nbconvert_exporter": "python",
   "pygments_lexer": "ipython3",
   "version": "3.12.0"
  }
 },
 "nbformat": 4,
 "nbformat_minor": 2
}
